{
 "cells": [
  {
   "cell_type": "code",
   "execution_count": 6,
   "id": "08a0d377-a9a0-4654-991d-aa505692aec7",
   "metadata": {},
   "outputs": [
    {
     "name": "stdout",
     "output_type": "stream",
     "text": [
      "* \n",
      "* * \n",
      "* * * \n",
      "* * * * \n"
     ]
    }
   ],
   "source": [
    "for i in range (4):\n",
    "    for j in range (i+1):\n",
    "      print(\"*\",end=\" \")\n",
    "    print()"
   ]
  },
  {
   "cell_type": "raw",
   "id": "53a410af-46fe-4e8d-b402-ffca5233d9d8",
   "metadata": {},
   "source": [
    "\n"
   ]
  },
  {
   "cell_type": "code",
   "execution_count": 7,
   "id": "26526597-ad68-48af-bc92-2c25d96fcd99",
   "metadata": {},
   "outputs": [
    {
     "name": "stdin",
     "output_type": "stream",
     "text": [
      "Enter your name : mohd anas\n"
     ]
    },
    {
     "data": {
      "text/plain": [
       "'mohd anas'"
      ]
     },
     "execution_count": 7,
     "metadata": {},
     "output_type": "execute_result"
    }
   ],
   "source": [
    "name = input(\"Enter your name :\")\n",
    "name"
   ]
  },
  {
   "cell_type": "code",
   "execution_count": 15,
   "id": "f0a8a3a9-4c7c-4c36-a6f8-5ccb4b7877cd",
   "metadata": {},
   "outputs": [
    {
     "name": "stdin",
     "output_type": "stream",
     "text": [
      "enter your age 20\n"
     ]
    },
    {
     "name": "stdout",
     "output_type": "stream",
     "text": [
      "you are a child:\n"
     ]
    }
   ],
   "source": [
    "n=int(input(\"enter your age\"))\n",
    "if n>21:\n",
    "    print(\"you are adult:\")\n",
    "elif 13<n>20:\n",
    "    print(\"you are teenager:\")\n",
    "else:\n",
    "    print(\"you are a child:\")"
   ]
  },
  {
   "cell_type": "code",
   "execution_count": 16,
   "id": "a4beaaa4-a953-4248-8fdc-3b61a918cc45",
   "metadata": {},
   "outputs": [
    {
     "data": {
      "text/plain": [
       "list"
      ]
     },
     "execution_count": 16,
     "metadata": {},
     "output_type": "execute_result"
    }
   ],
   "source": [
    "num=[1,2,3,4,5,6,7]\n",
    "type(num)"
   ]
  },
  {
   "cell_type": "code",
   "execution_count": 17,
   "id": "b7adc827-9d4f-433c-bc8d-547fed13e037",
   "metadata": {},
   "outputs": [
    {
     "data": {
      "text/plain": [
       "2"
      ]
     },
     "execution_count": 17,
     "metadata": {},
     "output_type": "execute_result"
    }
   ],
   "source": [
    "num[1]"
   ]
  },
  {
   "cell_type": "code",
   "execution_count": 19,
   "id": "875992e7-a15a-4962-8971-325b80f4ef2d",
   "metadata": {},
   "outputs": [
    {
     "data": {
      "text/plain": [
       "6"
      ]
     },
     "execution_count": 19,
     "metadata": {},
     "output_type": "execute_result"
    }
   ],
   "source": [
    "num[5]"
   ]
  },
  {
   "cell_type": "code",
   "execution_count": 20,
   "id": "e90328f8-fe1f-418a-bdfa-a0bd2b8edaa5",
   "metadata": {},
   "outputs": [
    {
     "ename": "IndexError",
     "evalue": "list index out of range",
     "output_type": "error",
     "traceback": [
      "\u001b[0;31m---------------------------------------------------------------------------\u001b[0m",
      "\u001b[0;31mIndexError\u001b[0m                                Traceback (most recent call last)",
      "Cell \u001b[0;32mIn[20], line 1\u001b[0m\n\u001b[0;32m----> 1\u001b[0m \u001b[43mnum\u001b[49m\u001b[43m[\u001b[49m\u001b[38;5;241;43m7\u001b[39;49m\u001b[43m]\u001b[49m\n",
      "\u001b[0;31mIndexError\u001b[0m: list index out of range"
     ]
    }
   ],
   "source": [
    "num[7]"
   ]
  },
  {
   "cell_type": "code",
   "execution_count": 21,
   "id": "f2b54d95-6ba6-4da2-be19-bbab6cd8e1b3",
   "metadata": {},
   "outputs": [
    {
     "data": {
      "text/plain": [
       "7"
      ]
     },
     "execution_count": 21,
     "metadata": {},
     "output_type": "execute_result"
    }
   ],
   "source": [
    "num[6]"
   ]
  },
  {
   "cell_type": "code",
   "execution_count": 22,
   "id": "5a68ac7d-f72e-4d53-91b1-58b28986a367",
   "metadata": {},
   "outputs": [
    {
     "ename": "TypeError",
     "evalue": "list indices must be integers or slices, not tuple",
     "output_type": "error",
     "traceback": [
      "\u001b[0;31m---------------------------------------------------------------------------\u001b[0m",
      "\u001b[0;31mTypeError\u001b[0m                                 Traceback (most recent call last)",
      "Cell \u001b[0;32mIn[22], line 1\u001b[0m\n\u001b[0;32m----> 1\u001b[0m \u001b[43mnum\u001b[49m\u001b[43m[\u001b[49m\u001b[38;5;241;43m1\u001b[39;49m\u001b[43m,\u001b[49m\u001b[38;5;241;43m2\u001b[39;49m\u001b[43m]\u001b[49m\n",
      "\u001b[0;31mTypeError\u001b[0m: list indices must be integers or slices, not tuple"
     ]
    }
   ],
   "source": [
    "num[1,2]"
   ]
  },
  {
   "cell_type": "code",
   "execution_count": 23,
   "id": "f9fc1493-2276-44f9-9fa4-daa97ac9d1c9",
   "metadata": {},
   "outputs": [
    {
     "data": {
      "text/plain": [
       "list"
      ]
     },
     "execution_count": 23,
     "metadata": {},
     "output_type": "execute_result"
    }
   ],
   "source": [
    "list=[\"anas\",\"karan\",4,6,7,\"nirmalaP\"]\n",
    "type(list)"
   ]
  },
  {
   "cell_type": "code",
   "execution_count": 25,
   "id": "e607c7ba-653a-451b-8530-7d82d9fc8ebc",
   "metadata": {},
   "outputs": [
    {
     "data": {
      "text/plain": [
       "3"
      ]
     },
     "execution_count": 25,
     "metadata": {},
     "output_type": "execute_result"
    }
   ],
   "source": [
    "list.index(6)"
   ]
  },
  {
   "cell_type": "code",
   "execution_count": 26,
   "id": "42338f88-6b2b-47b5-a9f8-2626c81b2f8c",
   "metadata": {},
   "outputs": [
    {
     "data": {
      "text/plain": [
       "['anas', 'karan', 4, 6, 7, 'nirmalaP']"
      ]
     },
     "execution_count": 26,
     "metadata": {},
     "output_type": "execute_result"
    }
   ],
   "source": [
    "list"
   ]
  },
  {
   "cell_type": "code",
   "execution_count": 27,
   "id": "64491bd3-0939-4969-a021-317196164b11",
   "metadata": {},
   "outputs": [],
   "source": [
    "list.remove(4)"
   ]
  },
  {
   "cell_type": "code",
   "execution_count": 28,
   "id": "00997972-9a5f-4e0a-a4eb-fb23a8d277a4",
   "metadata": {},
   "outputs": [
    {
     "data": {
      "text/plain": [
       "['anas', 'karan', 6, 7, 'nirmalaP']"
      ]
     },
     "execution_count": 28,
     "metadata": {},
     "output_type": "execute_result"
    }
   ],
   "source": [
    "list"
   ]
  },
  {
   "cell_type": "code",
   "execution_count": 30,
   "id": "53f9b1f9-3665-448f-be5c-93b1aea21eb5",
   "metadata": {},
   "outputs": [],
   "source": [
    "list.remove(\"anas\")"
   ]
  },
  {
   "cell_type": "code",
   "execution_count": null,
   "id": "e9e4c927-48d9-4df1-b857-e6fd46058703",
   "metadata": {},
   "outputs": [],
   "source": []
  },
  {
   "cell_type": "code",
   "execution_count": 31,
   "id": "59973e82-c402-404c-920f-ccf4d2bff03c",
   "metadata": {},
   "outputs": [
    {
     "data": {
      "text/plain": [
       "['karan', 6, 7, 'nirmalaP']"
      ]
     },
     "execution_count": 31,
     "metadata": {},
     "output_type": "execute_result"
    }
   ],
   "source": [
    "list"
   ]
  },
  {
   "cell_type": "code",
   "execution_count": 32,
   "id": "729f5632-ebc0-4cfa-bece-707fe1572dcf",
   "metadata": {},
   "outputs": [],
   "source": [
    "list.append(\"anas\")"
   ]
  },
  {
   "cell_type": "code",
   "execution_count": 33,
   "id": "0af2b902-1a84-412f-acdb-c333a06b6640",
   "metadata": {},
   "outputs": [
    {
     "data": {
      "text/plain": [
       "['karan', 6, 7, 'nirmalaP', 'anas']"
      ]
     },
     "execution_count": 33,
     "metadata": {},
     "output_type": "execute_result"
    }
   ],
   "source": [
    "list"
   ]
  },
  {
   "cell_type": "code",
   "execution_count": 34,
   "id": "7e839cc4-3887-4eca-a082-70fbb5c9a171",
   "metadata": {},
   "outputs": [],
   "source": [
    "list.append(4)"
   ]
  },
  {
   "cell_type": "code",
   "execution_count": 35,
   "id": "ef02cd12-aad2-4e82-ab52-edbdbf799990",
   "metadata": {},
   "outputs": [
    {
     "data": {
      "text/plain": [
       "['karan', 6, 7, 'nirmalaP', 'anas', 4]"
      ]
     },
     "execution_count": 35,
     "metadata": {},
     "output_type": "execute_result"
    }
   ],
   "source": [
    "list"
   ]
  },
  {
   "cell_type": "code",
   "execution_count": 39,
   "id": "36084e7e-4e34-4c92-91d6-cb997e3b6dec",
   "metadata": {},
   "outputs": [
    {
     "data": {
      "text/plain": [
       "'nirmalaP'"
      ]
     },
     "execution_count": 39,
     "metadata": {},
     "output_type": "execute_result"
    }
   ],
   "source": [
    "list[3]"
   ]
  },
  {
   "cell_type": "code",
   "execution_count": 41,
   "id": "bd9cdc77-1546-4a36-8566-4c2fe42dd6b8",
   "metadata": {},
   "outputs": [
    {
     "data": {
      "text/plain": [
       "[[1, 5, 7, 8, 6], [4, 7, 7, 4, 5], [8, 5, 2, 4, 65]]"
      ]
     },
     "execution_count": 41,
     "metadata": {},
     "output_type": "execute_result"
    }
   ],
   "source": [
    "lis=[[1,5,7,8,6],[4,7,7,4,5,],[8,5,2,4,65]]\n",
    "lis"
   ]
  },
  {
   "cell_type": "code",
   "execution_count": 42,
   "id": "12fe0285-a9fc-45c3-9480-a28ea2d5e1d8",
   "metadata": {},
   "outputs": [
    {
     "data": {
      "text/plain": [
       "list"
      ]
     },
     "execution_count": 42,
     "metadata": {},
     "output_type": "execute_result"
    }
   ],
   "source": [
    "type(lis)"
   ]
  },
  {
   "cell_type": "code",
   "execution_count": 49,
   "id": "629111d0-1ebb-427c-9138-b6f4f3c31cb2",
   "metadata": {},
   "outputs": [
    {
     "data": {
      "text/plain": [
       "[1, 5, 7, 8, 6]"
      ]
     },
     "execution_count": 49,
     "metadata": {},
     "output_type": "execute_result"
    }
   ],
   "source": [
    "lis[0]"
   ]
  },
  {
   "cell_type": "code",
   "execution_count": 50,
   "id": "2027feaf-5de9-4657-8506-72fb14d2fe78",
   "metadata": {},
   "outputs": [
    {
     "data": {
      "text/plain": [
       "7"
      ]
     },
     "execution_count": 50,
     "metadata": {},
     "output_type": "execute_result"
    }
   ],
   "source": [
    "lis[0][2]"
   ]
  },
  {
   "cell_type": "code",
   "execution_count": 51,
   "id": "2201bfaf-11cd-49a0-a1ee-555e10d2f0c5",
   "metadata": {},
   "outputs": [],
   "source": [
    "shoping_list=[\"aplle\",\"banana\",\"orange\",5,1.54,\"ajay\"]"
   ]
  },
  {
   "cell_type": "code",
   "execution_count": 52,
   "id": "0dbc7459-de84-4148-a981-fe1600a384fa",
   "metadata": {},
   "outputs": [
    {
     "data": {
      "text/plain": [
       "['aplle', 'banana', 'orange', 5, 1.54, 'ajay']"
      ]
     },
     "execution_count": 52,
     "metadata": {},
     "output_type": "execute_result"
    }
   ],
   "source": [
    "shoping_list"
   ]
  },
  {
   "cell_type": "code",
   "execution_count": 59,
   "id": "bd36dae1-0849-4fe3-9a65-d5d1e1777f66",
   "metadata": {},
   "outputs": [
    {
     "data": {
      "text/plain": [
       "'ajay'"
      ]
     },
     "execution_count": 59,
     "metadata": {},
     "output_type": "execute_result"
    }
   ],
   "source": [
    "\n",
    "shoping_list[5]"
   ]
  },
  {
   "cell_type": "code",
   "execution_count": 62,
   "id": "88625bd9-7bd0-4d64-8c63-ffe044bdb40f",
   "metadata": {},
   "outputs": [
    {
     "ename": "TypeError",
     "evalue": "'builtin_function_or_method' object is not subscriptable",
     "output_type": "error",
     "traceback": [
      "\u001b[0;31m---------------------------------------------------------------------------\u001b[0m",
      "\u001b[0;31mTypeError\u001b[0m                                 Traceback (most recent call last)",
      "Cell \u001b[0;32mIn[62], line 1\u001b[0m\n\u001b[0;32m----> 1\u001b[0m \u001b[43mshoping_list\u001b[49m\u001b[38;5;241;43m.\u001b[39;49m\u001b[43mremove\u001b[49m\u001b[43m[\u001b[49m\u001b[38;5;124;43m\"\u001b[39;49m\u001b[38;5;124;43mbanana\u001b[39;49m\u001b[38;5;124;43m\"\u001b[39;49m\u001b[43m]\u001b[49m\n",
      "\u001b[0;31mTypeError\u001b[0m: 'builtin_function_or_method' object is not subscriptable"
     ]
    }
   ],
   "source": [
    "\n",
    "shoping_list.remove[\"banana\"]"
   ]
  },
  {
   "cell_type": "code",
   "execution_count": 63,
   "id": "6be1d304-39e5-4c9d-849d-5fdee7cfda36",
   "metadata": {},
   "outputs": [
    {
     "data": {
      "text/plain": [
       "['aplle', 'banana', 'orange', 5, 1.54, 'ajay']"
      ]
     },
     "execution_count": 63,
     "metadata": {},
     "output_type": "execute_result"
    }
   ],
   "source": [
    "shoping_list"
   ]
  },
  {
   "cell_type": "code",
   "execution_count": 65,
   "id": "2efbc921-1054-4d66-9b6a-4fdc62e6c6cd",
   "metadata": {},
   "outputs": [],
   "source": [
    "shoping_list.remove(\"banana\")"
   ]
  },
  {
   "cell_type": "code",
   "execution_count": 66,
   "id": "94a9cd13-7475-4d07-ba94-4a813ba44ea3",
   "metadata": {},
   "outputs": [
    {
     "data": {
      "text/plain": [
       "['aplle', 'orange', 5, 1.54, 'ajay']"
      ]
     },
     "execution_count": 66,
     "metadata": {},
     "output_type": "execute_result"
    }
   ],
   "source": [
    "shoping_list"
   ]
  },
  {
   "cell_type": "code",
   "execution_count": 67,
   "id": "f84d74d9-29ad-4ff9-a164-7cc8a806d5a1",
   "metadata": {},
   "outputs": [],
   "source": [
    "shoping_list.append(\"banana\")"
   ]
  },
  {
   "cell_type": "code",
   "execution_count": 68,
   "id": "c23871e5-7460-40af-9ba6-2874777b7712",
   "metadata": {},
   "outputs": [
    {
     "data": {
      "text/plain": [
       "['aplle', 'orange', 5, 1.54, 'ajay', 'banana']"
      ]
     },
     "execution_count": 68,
     "metadata": {},
     "output_type": "execute_result"
    }
   ],
   "source": [
    "shoping_list"
   ]
  },
  {
   "cell_type": "code",
   "execution_count": 71,
   "id": "de00d008-3595-4bfc-bf7d-4c775be30230",
   "metadata": {},
   "outputs": [
    {
     "name": "stdout",
     "output_type": "stream",
     "text": [
      "aplle\n",
      "orange\n",
      "5\n",
      "1.54\n",
      "ajay\n",
      "banana\n"
     ]
    }
   ],
   "source": [
    "for i in shoping_list:\n",
    "    print(i)"
   ]
  },
  {
   "cell_type": "code",
   "execution_count": 76,
   "id": "858df9ea-398d-4f30-b309-3c270aee8d58",
   "metadata": {},
   "outputs": [
    {
     "ename": "TypeError",
     "evalue": "list.extend() takes exactly one argument (0 given)",
     "output_type": "error",
     "traceback": [
      "\u001b[0;31m---------------------------------------------------------------------------\u001b[0m",
      "\u001b[0;31mTypeError\u001b[0m                                 Traceback (most recent call last)",
      "Cell \u001b[0;32mIn[76], line 1\u001b[0m\n\u001b[0;32m----> 1\u001b[0m \u001b[43mshoping_list\u001b[49m\u001b[38;5;241;43m.\u001b[39;49m\u001b[43mextend\u001b[49m\u001b[43m(\u001b[49m\u001b[43m)\u001b[49m\n",
      "\u001b[0;31mTypeError\u001b[0m: list.extend() takes exactly one argument (0 given)"
     ]
    }
   ],
   "source": [
    "shoping_list.extend()"
   ]
  },
  {
   "cell_type": "code",
   "execution_count": 79,
   "id": "03e1f44b-515e-4c0c-be17-51a694cc9a86",
   "metadata": {},
   "outputs": [
    {
     "data": {
      "text/plain": [
       "['aplle',\n",
       " 'orange',\n",
       " 5,\n",
       " 1.54,\n",
       " 'ajay',\n",
       " 'banana',\n",
       " 'aplle',\n",
       " 'orange',\n",
       " 5,\n",
       " 1.54,\n",
       " 'ajay',\n",
       " 'banana']"
      ]
     },
     "execution_count": 79,
     "metadata": {},
     "output_type": "execute_result"
    }
   ],
   "source": [
    "shoping_list\n"
   ]
  },
  {
   "cell_type": "code",
   "execution_count": 87,
   "id": "1858b244-179d-49ad-a1cf-c18df1d02fd9",
   "metadata": {},
   "outputs": [],
   "source": [
    "shoping_list.extend(\"lichi\")"
   ]
  },
  {
   "cell_type": "code",
   "execution_count": 88,
   "id": "b7137dba-53e3-460b-b143-6dc5c9a1d5eb",
   "metadata": {},
   "outputs": [
    {
     "data": {
      "text/plain": [
       "['aplle',\n",
       " 'orange',\n",
       " 5,\n",
       " 1.54,\n",
       " 'ajay',\n",
       " 'banana',\n",
       " 'aplle',\n",
       " 'orange',\n",
       " 5,\n",
       " 1.54,\n",
       " 'ajay',\n",
       " 'banana',\n",
       " 'l',\n",
       " 'i',\n",
       " 'c',\n",
       " 'h',\n",
       " 'i',\n",
       " 'l',\n",
       " 'i',\n",
       " 'c',\n",
       " 'h',\n",
       " 'i',\n",
       " 'l',\n",
       " 'i',\n",
       " 'c',\n",
       " 'h',\n",
       " 'i']"
      ]
     },
     "execution_count": 88,
     "metadata": {},
     "output_type": "execute_result"
    }
   ],
   "source": [
    "shoping_list\n"
   ]
  },
  {
   "cell_type": "code",
   "execution_count": 86,
   "id": "51418b04-6f60-4c8d-8596-badf1b8512c6",
   "metadata": {},
   "outputs": [
    {
     "data": {
      "text/plain": [
       "['aplle',\n",
       " 'orange',\n",
       " 5,\n",
       " 1.54,\n",
       " 'ajay',\n",
       " 'banana',\n",
       " 'aplle',\n",
       " 'orange',\n",
       " 5,\n",
       " 1.54,\n",
       " 'ajay',\n",
       " 'banana',\n",
       " 'l',\n",
       " 'i',\n",
       " 'c',\n",
       " 'h',\n",
       " 'i',\n",
       " 'l',\n",
       " 'i',\n",
       " 'c',\n",
       " 'h',\n",
       " 'i']"
      ]
     },
     "execution_count": 86,
     "metadata": {},
     "output_type": "execute_result"
    }
   ],
   "source": [
    "shoping_list\n"
   ]
  },
  {
   "cell_type": "code",
   "execution_count": 89,
   "id": "c4bc6e8f-8346-4b6c-8e87-055c0a27f055",
   "metadata": {},
   "outputs": [
    {
     "data": {
      "text/plain": [
       "['aplle',\n",
       " 'orange',\n",
       " 5,\n",
       " 1.54,\n",
       " 'ajay',\n",
       " 'banana',\n",
       " 'aplle',\n",
       " 'orange',\n",
       " 5,\n",
       " 1.54,\n",
       " 'ajay',\n",
       " 'banana',\n",
       " 'l',\n",
       " 'i',\n",
       " 'c',\n",
       " 'h',\n",
       " 'i',\n",
       " 'l',\n",
       " 'i',\n",
       " 'c',\n",
       " 'h',\n",
       " 'i',\n",
       " 'l',\n",
       " 'i',\n",
       " 'c',\n",
       " 'h',\n",
       " 'i']"
      ]
     },
     "execution_count": 89,
     "metadata": {},
     "output_type": "execute_result"
    }
   ],
   "source": [
    "0shoping_list"
   ]
  },
  {
   "cell_type": "code",
   "execution_count": 102,
   "id": "0cb9a1a2-bdbb-470c-bd1a-bc98de8b4c30",
   "metadata": {},
   "outputs": [],
   "source": [
    "name=[\"ajay\",\"kunal\",\"karan\",52,25.25]\n",
    "a=name.copy()"
   ]
  },
  {
   "cell_type": "code",
   "execution_count": 105,
   "id": "c4473086-c590-4a20-a994-ee69a147dc6b",
   "metadata": {},
   "outputs": [
    {
     "data": {
      "text/plain": [
       "['ajay', 'kunal', 'karan', 52, 25.25]"
      ]
     },
     "execution_count": 105,
     "metadata": {},
     "output_type": "execute_result"
    }
   ],
   "source": [
    "a"
   ]
  },
  {
   "cell_type": "code",
   "execution_count": 104,
   "id": "c74b28e0-759c-49a7-974b-3de0f8b27bb6",
   "metadata": {},
   "outputs": [
    {
     "name": "stdout",
     "output_type": "stream",
     "text": [
      "ajay, kunal, karan, 52, 25.25, "
     ]
    }
   ],
   "source": [
    "for i in name:\n",
    "    print (i,end=\", \")"
   ]
  },
  {
   "cell_type": "code",
   "execution_count": 106,
   "id": "b797b8e1-7e86-4ca1-976b-c129ee7fec1c",
   "metadata": {},
   "outputs": [
    {
     "data": {
      "text/plain": [
       "['ajay', 'kunal', 'karan', 52, 25.25]"
      ]
     },
     "execution_count": 106,
     "metadata": {},
     "output_type": "execute_result"
    }
   ],
   "source": [
    "name"
   ]
  },
  {
   "cell_type": "code",
   "execution_count": 96,
   "id": "6257a0df-46ca-42dd-9107-1ee190679c4c",
   "metadata": {},
   "outputs": [],
   "source": [
    "\n",
    "# starting a tuple here\n"
   ]
  },
  {
   "cell_type": "code",
   "execution_count": 97,
   "id": "3073b20d-53a9-4ffc-a6a3-eaf60f4f3055",
   "metadata": {},
   "outputs": [],
   "source": [
    "tuple=(\"ajay\",\"karan\",\"mayank\",25,45,23,\"ahhalabad\")"
   ]
  },
  {
   "cell_type": "code",
   "execution_count": 98,
   "id": "e76cd07e-931a-4207-8280-8f3d6b77de91",
   "metadata": {},
   "outputs": [
    {
     "ename": "AttributeError",
     "evalue": "'tuple' object has no attribute 'remove'",
     "output_type": "error",
     "traceback": [
      "\u001b[0;31m---------------------------------------------------------------------------\u001b[0m",
      "\u001b[0;31mAttributeError\u001b[0m                            Traceback (most recent call last)",
      "Cell \u001b[0;32mIn[98], line 1\u001b[0m\n\u001b[0;32m----> 1\u001b[0m \u001b[38;5;28;43mtuple\u001b[39;49m\u001b[38;5;241;43m.\u001b[39;49m\u001b[43mremove\u001b[49m(\u001b[38;5;124m\"\u001b[39m\u001b[38;5;124majay\u001b[39m\u001b[38;5;124m\"\u001b[39m)\n",
      "\u001b[0;31mAttributeError\u001b[0m: 'tuple' object has no attribute 'remove'"
     ]
    }
   ],
   "source": [
    "tuple.remove(\"ajay\")"
   ]
  },
  {
   "cell_type": "code",
   "execution_count": 99,
   "id": "b046f0b7-916a-407e-98a3-666348e922c0",
   "metadata": {},
   "outputs": [
    {
     "ename": "AttributeError",
     "evalue": "'tuple' object has no attribute 'copy'",
     "output_type": "error",
     "traceback": [
      "\u001b[0;31m---------------------------------------------------------------------------\u001b[0m",
      "\u001b[0;31mAttributeError\u001b[0m                            Traceback (most recent call last)",
      "Cell \u001b[0;32mIn[99], line 1\u001b[0m\n\u001b[0;32m----> 1\u001b[0m a\u001b[38;5;241m=\u001b[39m\u001b[38;5;28;43mtuple\u001b[39;49m\u001b[38;5;241;43m.\u001b[39;49m\u001b[43mcopy\u001b[49m\n",
      "\u001b[0;31mAttributeError\u001b[0m: 'tuple' object has no attribute 'copy'"
     ]
    }
   ],
   "source": [
    "a=tuple.copy"
   ]
  },
  {
   "cell_type": "code",
   "execution_count": 107,
   "id": "1cc56aab-e65a-4090-b130-127e3dbb929d",
   "metadata": {},
   "outputs": [
    {
     "data": {
      "text/plain": [
       "('ajay', 'karan', 'mayank', 25, 45, 23, 'ahhalabad')"
      ]
     },
     "execution_count": 107,
     "metadata": {},
     "output_type": "execute_result"
    }
   ],
   "source": [
    "tuple"
   ]
  },
  {
   "cell_type": "code",
   "execution_count": 108,
   "id": "a2ed756f-f94b-48c1-a21a-2909c1ca270c",
   "metadata": {},
   "outputs": [
    {
     "data": {
      "text/plain": [
       "tuple"
      ]
     },
     "execution_count": 108,
     "metadata": {},
     "output_type": "execute_result"
    }
   ],
   "source": [
    "type(tuple)"
   ]
  },
  {
   "cell_type": "code",
   "execution_count": 113,
   "id": "2cfaac74-092b-4b8d-86f5-cd0532ae5316",
   "metadata": {},
   "outputs": [
    {
     "data": {
      "text/plain": [
       "'karan'"
      ]
     },
     "execution_count": 113,
     "metadata": {},
     "output_type": "execute_result"
    }
   ],
   "source": [
    "tuple[1]"
   ]
  },
  {
   "cell_type": "code",
   "execution_count": 115,
   "id": "2ab1101c-8568-4d8f-83ae-239fe7b47d9c",
   "metadata": {},
   "outputs": [
    {
     "ename": "ValueError",
     "evalue": "tuple.index(x): x not in tuple",
     "output_type": "error",
     "traceback": [
      "\u001b[0;31m---------------------------------------------------------------------------\u001b[0m",
      "\u001b[0;31mValueError\u001b[0m                                Traceback (most recent call last)",
      "Cell \u001b[0;32mIn[115], line 1\u001b[0m\n\u001b[0;32m----> 1\u001b[0m \u001b[38;5;28;43mtuple\u001b[39;49m\u001b[38;5;241;43m.\u001b[39;49m\u001b[43mindex\u001b[49m\u001b[43m(\u001b[49m\u001b[38;5;241;43m1\u001b[39;49m\u001b[43m)\u001b[49m\n",
      "\u001b[0;31mValueError\u001b[0m: tuple.index(x): x not in tuple"
     ]
    }
   ],
   "source": [
    "tuple.index(1)"
   ]
  },
  {
   "cell_type": "code",
   "execution_count": 116,
   "id": "8b81d3ce-c47f-4da7-8d09-bbbec251ad29",
   "metadata": {},
   "outputs": [
    {
     "data": {
      "text/plain": [
       "('ajay', 'karan', 'mayank', 25, 45, 23, 'ahhalabad')"
      ]
     },
     "execution_count": 116,
     "metadata": {},
     "output_type": "execute_result"
    }
   ],
   "source": [
    "tuple\n"
   ]
  },
  {
   "cell_type": "code",
   "execution_count": 117,
   "id": "5cb02ded-f36e-4fa5-b3c0-bb46edb92994",
   "metadata": {},
   "outputs": [
    {
     "ename": "TypeError",
     "evalue": "'tuple' object does not support item assignment",
     "output_type": "error",
     "traceback": [
      "\u001b[0;31m---------------------------------------------------------------------------\u001b[0m",
      "\u001b[0;31mTypeError\u001b[0m                                 Traceback (most recent call last)",
      "Cell \u001b[0;32mIn[117], line 1\u001b[0m\n\u001b[0;32m----> 1\u001b[0m \u001b[38;5;28;43mtuple\u001b[39;49m\u001b[43m[\u001b[49m\u001b[38;5;241;43m1\u001b[39;49m\u001b[43m]\u001b[49m\u001b[38;5;241m=\u001b[39m\u001b[38;5;124m\"\u001b[39m\u001b[38;5;124mkhdfhk\u001b[39m\u001b[38;5;124m\"\u001b[39m\n",
      "\u001b[0;31mTypeError\u001b[0m: 'tuple' object does not support item assignment"
     ]
    }
   ],
   "source": [
    "tuple[1]=\"khdfhk\""
   ]
  },
  {
   "cell_type": "code",
   "execution_count": 118,
   "id": "1fd3cf18-b8e7-4727-ae4d-2dc271d3d517",
   "metadata": {},
   "outputs": [
    {
     "data": {
      "text/plain": [
       "'karan'"
      ]
     },
     "execution_count": 118,
     "metadata": {},
     "output_type": "execute_result"
    }
   ],
   "source": [
    "tuple[1]"
   ]
  },
  {
   "cell_type": "code",
   "execution_count": 119,
   "id": "0d1ba0d3-bf83-4aa2-8dc4-9094be3124bb",
   "metadata": {},
   "outputs": [
    {
     "ename": "TypeError",
     "evalue": "'tuple' object does not support item assignment",
     "output_type": "error",
     "traceback": [
      "\u001b[0;31m---------------------------------------------------------------------------\u001b[0m",
      "\u001b[0;31mTypeError\u001b[0m                                 Traceback (most recent call last)",
      "Cell \u001b[0;32mIn[119], line 1\u001b[0m\n\u001b[0;32m----> 1\u001b[0m \u001b[38;5;28;43mtuple\u001b[39;49m\u001b[43m[\u001b[49m\u001b[38;5;241;43m1\u001b[39;49m\u001b[43m]\u001b[49m\u001b[38;5;241m=\u001b[39m\u001b[38;5;124m\"\u001b[39m\u001b[38;5;124mhstys\u001b[39m\u001b[38;5;124m\"\u001b[39m\n",
      "\u001b[0;31mTypeError\u001b[0m: 'tuple' object does not support item assignment"
     ]
    }
   ],
   "source": [
    "tuple[1]=\"hstys\""
   ]
  },
  {
   "cell_type": "code",
   "execution_count": null,
   "id": "9d04bea1-4611-4dcf-8943-8aa2380d1d48",
   "metadata": {},
   "outputs": [],
   "source": [
    "# tuple can not support the indexing value"
   ]
  },
  {
   "cell_type": "code",
   "execution_count": 3,
   "id": "38535b5c-ed72-43df-a450-eb34e654621b",
   "metadata": {},
   "outputs": [],
   "source": [
    "box1=(\"25\",\"65\")\n",
    "box2=(\"21\",\"85\")\n",
    "chocolate_box=(box1,box2)"
   ]
  },
  {
   "cell_type": "code",
   "execution_count": 4,
   "id": "6a565e89-d2aa-44c9-85a2-abc29a85ae5d",
   "metadata": {},
   "outputs": [
    {
     "data": {
      "text/plain": [
       "(('25', '65'), ('21', '85'))"
      ]
     },
     "execution_count": 4,
     "metadata": {},
     "output_type": "execute_result"
    }
   ],
   "source": [
    "chocolate_box"
   ]
  },
  {
   "cell_type": "raw",
   "id": "ce4c5602-b132-4ed9-989d-cb3c77a8f0eb",
   "metadata": {},
   "source": [
    "\n",
    "\n"
   ]
  },
  {
   "cell_type": "code",
   "execution_count": 5,
   "id": "1c563bcb-72b6-4f4e-af6e-dc69c23223c1",
   "metadata": {},
   "outputs": [
    {
     "name": "stdout",
     "output_type": "stream",
     "text": [
      "25\n",
      "65\n",
      "21\n",
      "85\n"
     ]
    }
   ],
   "source": [
    "for i in chocolate_box:\n",
    "    for choc in i:\n",
    "        print(choc)"
   ]
  },
  {
   "cell_type": "code",
   "execution_count": 6,
   "id": "1541d090-c4ba-4133-baf1-2a04d9473a1e",
   "metadata": {},
   "outputs": [],
   "source": [
    "s={\"red\":20,\"blue\":30}"
   ]
  },
  {
   "cell_type": "code",
   "execution_count": 7,
   "id": "f377d33b-3be0-40f0-a6b8-ca665e8bdc5e",
   "metadata": {},
   "outputs": [
    {
     "data": {
      "text/plain": [
       "dict"
      ]
     },
     "execution_count": 7,
     "metadata": {},
     "output_type": "execute_result"
    }
   ],
   "source": [
    "type(s)"
   ]
  },
  {
   "cell_type": "code",
   "execution_count": 8,
   "id": "a2705f0e-9d6b-4d58-9e77-13948b747ed1",
   "metadata": {},
   "outputs": [],
   "source": [
    "se={\"rec\",\"blue\"}"
   ]
  },
  {
   "cell_type": "code",
   "execution_count": 9,
   "id": "c997041b-d0da-49e4-82d6-0da6a3ef7ff9",
   "metadata": {},
   "outputs": [
    {
     "data": {
      "text/plain": [
       "set"
      ]
     },
     "execution_count": 9,
     "metadata": {},
     "output_type": "execute_result"
    }
   ],
   "source": [
    "type(se)"
   ]
  },
  {
   "cell_type": "code",
   "execution_count": 10,
   "id": "e341c144-750e-4978-8008-2f5dd2bda115",
   "metadata": {},
   "outputs": [],
   "source": [
    "phone_book={\"dads\": 2546563,\"moms\":45447,\"brothers\":24745}"
   ]
  },
  {
   "cell_type": "code",
   "execution_count": 12,
   "id": "f49fcf34-4dc3-4cd8-96de-4f614c70b861",
   "metadata": {},
   "outputs": [
    {
     "data": {
      "text/plain": [
       "{'dads': 2546563, 'moms': 45447, 'brothers': 24745}"
      ]
     },
     "execution_count": 12,
     "metadata": {},
     "output_type": "execute_result"
    }
   ],
   "source": [
    "phone_book"
   ]
  },
  {
   "cell_type": "code",
   "execution_count": 14,
   "id": "763bd04c-38e0-47d4-9ce6-ff4b81ee31b5",
   "metadata": {},
   "outputs": [
    {
     "data": {
      "text/plain": [
       "45447"
      ]
     },
     "execution_count": 14,
     "metadata": {},
     "output_type": "execute_result"
    }
   ],
   "source": [
    "phone_book[\"moms\"]"
   ]
  },
  {
   "cell_type": "code",
   "execution_count": 16,
   "id": "46b5bf9e-6b63-4c0d-aeb0-69388d828319",
   "metadata": {},
   "outputs": [
    {
     "data": {
      "text/plain": [
       "24745"
      ]
     },
     "execution_count": 16,
     "metadata": {},
     "output_type": "execute_result"
    }
   ],
   "source": [
    "phone_book[\"brothers\"]"
   ]
  },
  {
   "cell_type": "code",
   "execution_count": 19,
   "id": "2394621c-5702-49dd-ae95-d712c843320c",
   "metadata": {},
   "outputs": [
    {
     "data": {
      "text/plain": [
       "dict_keys(['dads', 'moms', 'brothers'])"
      ]
     },
     "execution_count": 19,
     "metadata": {},
     "output_type": "execute_result"
    }
   ],
   "source": [
    "phone_book.keys()"
   ]
  },
  {
   "cell_type": "code",
   "execution_count": 21,
   "id": "24053bea-907b-4a9d-9d3c-3a7aeb5a756b",
   "metadata": {},
   "outputs": [],
   "source": [
    "phone_book[\"moms\"]=\"i have change the number\""
   ]
  },
  {
   "cell_type": "code",
   "execution_count": 22,
   "id": "0db3802a-2b6a-4984-865b-c1dbe79c7933",
   "metadata": {},
   "outputs": [
    {
     "data": {
      "text/plain": [
       "{'dads': 2546563, 'moms': 'i have change the number', 'brothers': 24745}"
      ]
     },
     "execution_count": 22,
     "metadata": {},
     "output_type": "execute_result"
    }
   ],
   "source": [
    "phone_book"
   ]
  },
  {
   "cell_type": "code",
   "execution_count": 24,
   "id": "094d2295-41b3-420f-88ad-3bfe9d14be2a",
   "metadata": {},
   "outputs": [
    {
     "data": {
      "text/plain": [
       "dict_keys(['dads', 'moms', 'brothers'])"
      ]
     },
     "execution_count": 24,
     "metadata": {},
     "output_type": "execute_result"
    }
   ],
   "source": [
    "phone_book.keys()"
   ]
  },
  {
   "cell_type": "code",
   "execution_count": null,
   "id": "0c954b3d-4740-4ec1-b233-8548f0512245",
   "metadata": {},
   "outputs": [],
   "source": []
  }
 ],
 "metadata": {
  "kernelspec": {
   "display_name": "Python 3 (ipykernel)",
   "language": "python",
   "name": "python3"
  },
  "language_info": {
   "codemirror_mode": {
    "name": "ipython",
    "version": 3
   },
   "file_extension": ".py",
   "mimetype": "text/x-python",
   "name": "python",
   "nbconvert_exporter": "python",
   "pygments_lexer": "ipython3",
   "version": "3.10.8"
  }
 },
 "nbformat": 4,
 "nbformat_minor": 5
}
