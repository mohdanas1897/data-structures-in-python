{
 "cells": [
  {
   "cell_type": "code",
   "execution_count": 1,
   "id": "b5e0562a-13c2-4446-a990-9ac14205cae7",
   "metadata": {},
   "outputs": [
    {
     "data": {
      "text/plain": [
       "65"
      ]
     },
     "execution_count": 1,
     "metadata": {},
     "output_type": "execute_result"
    }
   ],
   "source": [
    "char = \"A\"\n",
    "ord(char)"
   ]
  },
  {
   "cell_type": "code",
   "execution_count": 2,
   "id": "c42bc323-bc1b-4035-8a60-39d7e59bc7e0",
   "metadata": {},
   "outputs": [
    {
     "data": {
      "text/plain": [
       "90"
      ]
     },
     "execution_count": 2,
     "metadata": {},
     "output_type": "execute_result"
    }
   ],
   "source": [
    "char=\"Z\"\n",
    "ord(char)"
   ]
  },
  {
   "cell_type": "code",
   "execution_count": 3,
   "id": "e663293e-24f4-418b-92aa-c75f3ecb3ea9",
   "metadata": {},
   "outputs": [
    {
     "data": {
      "text/plain": [
       "97"
      ]
     },
     "execution_count": 3,
     "metadata": {},
     "output_type": "execute_result"
    }
   ],
   "source": [
    "char=\"a\"\n",
    "ord(char)"
   ]
  },
  {
   "cell_type": "code",
   "execution_count": 4,
   "id": "4bd9ff2f-12ab-473c-8e36-dba6b359a61a",
   "metadata": {},
   "outputs": [
    {
     "ename": "TypeError",
     "evalue": "ord() expected string of length 1, but int found",
     "output_type": "error",
     "traceback": [
      "\u001b[0;31m---------------------------------------------------------------------------\u001b[0m",
      "\u001b[0;31mTypeError\u001b[0m                                 Traceback (most recent call last)",
      "Cell \u001b[0;32mIn[4], line 1\u001b[0m\n\u001b[0;32m----> 1\u001b[0m \u001b[38;5;28;43mord\u001b[39;49m\u001b[43m(\u001b[49m\u001b[38;5;241;43m65\u001b[39;49m\u001b[43m)\u001b[49m\n",
      "\u001b[0;31mTypeError\u001b[0m: ord() expected string of length 1, but int found"
     ]
    }
   ],
   "source": [
    "ord(65)"
   ]
  },
  {
   "cell_type": "code",
   "execution_count": 5,
   "id": "660df7f9-13ef-49c3-b13a-b275fae9cb75",
   "metadata": {},
   "outputs": [
    {
     "ename": "TypeError",
     "evalue": "'str' object is not callable",
     "output_type": "error",
     "traceback": [
      "\u001b[0;31m---------------------------------------------------------------------------\u001b[0m",
      "\u001b[0;31mTypeError\u001b[0m                                 Traceback (most recent call last)",
      "Cell \u001b[0;32mIn[5], line 1\u001b[0m\n\u001b[0;32m----> 1\u001b[0m \u001b[43mchar\u001b[49m\u001b[43m(\u001b[49m\u001b[38;5;241;43m65\u001b[39;49m\u001b[43m)\u001b[49m\n",
      "\u001b[0;31mTypeError\u001b[0m: 'str' object is not callable"
     ]
    }
   ],
   "source": [
    "char(65)"
   ]
  },
  {
   "cell_type": "code",
   "execution_count": 6,
   "id": "f6581548-10c2-4c4b-a75a-c9ad03f724ca",
   "metadata": {},
   "outputs": [
    {
     "data": {
      "text/plain": [
       "'A'"
      ]
     },
     "execution_count": 6,
     "metadata": {},
     "output_type": "execute_result"
    }
   ],
   "source": [
    "chr(65)"
   ]
  },
  {
   "cell_type": "code",
   "execution_count": 7,
   "id": "c6a096e8-165f-4901-8d8c-3c128f7bb996",
   "metadata": {},
   "outputs": [
    {
     "data": {
      "text/plain": [
       "110"
      ]
     },
     "execution_count": 7,
     "metadata": {},
     "output_type": "execute_result"
    }
   ],
   "source": [
    "chr=(\"n\")\n",
    "ord(chr)"
   ]
  },
  {
   "cell_type": "code",
   "execution_count": 8,
   "id": "a685423b-bd8a-4f1f-97b5-942229d8a127",
   "metadata": {},
   "outputs": [
    {
     "data": {
      "text/plain": [
       "115"
      ]
     },
     "execution_count": 8,
     "metadata": {},
     "output_type": "execute_result"
    }
   ],
   "source": [
    "chr=(\"s\")\n",
    "ord(chr)"
   ]
  },
  {
   "cell_type": "code",
   "execution_count": 13,
   "id": "bd5d1596-57ba-4e08-9e49-d5cd4fd82a97",
   "metadata": {},
   "outputs": [
    {
     "data": {
      "text/plain": [
       "65"
      ]
     },
     "execution_count": 13,
     "metadata": {},
     "output_type": "execute_result"
    }
   ],
   "source": [
    "(65)"
   ]
  },
  {
   "cell_type": "code",
   "execution_count": 17,
   "id": "8233663c-7168-4db4-9af3-bf043920a452",
   "metadata": {},
   "outputs": [
    {
     "ename": "TypeError",
     "evalue": "ord() expected string of length 1, but list found",
     "output_type": "error",
     "traceback": [
      "\u001b[0;31m---------------------------------------------------------------------------\u001b[0m",
      "\u001b[0;31mTypeError\u001b[0m                                 Traceback (most recent call last)",
      "Cell \u001b[0;32mIn[17], line 2\u001b[0m\n\u001b[1;32m      1\u001b[0m char\u001b[38;5;241m=\u001b[39m[\u001b[38;5;124m\"\u001b[39m\u001b[38;5;124mA\u001b[39m\u001b[38;5;124m\"\u001b[39m,\u001b[38;5;124m\"\u001b[39m\u001b[38;5;124mn\u001b[39m\u001b[38;5;124m\"\u001b[39m,\u001b[38;5;124m\"\u001b[39m\u001b[38;5;124ma\u001b[39m\u001b[38;5;124m\"\u001b[39m,\u001b[38;5;124m\"\u001b[39m\u001b[38;5;124ms\u001b[39m\u001b[38;5;124m\"\u001b[39m]\n\u001b[0;32m----> 2\u001b[0m \u001b[38;5;28;43mord\u001b[39;49m\u001b[43m(\u001b[49m\u001b[43mchar\u001b[49m\u001b[43m)\u001b[49m\n",
      "\u001b[0;31mTypeError\u001b[0m: ord() expected string of length 1, but list found"
     ]
    }
   ],
   "source": [
    "char=[\"A\",\"n\",\"a\",\"s\"]\n",
    "ord(char)"
   ]
  },
  {
   "cell_type": "code",
   "execution_count": 19,
   "id": "16990122-44ef-4104-b3da-da29b6ecc503",
   "metadata": {},
   "outputs": [
    {
     "data": {
      "text/plain": [
       "'Ω'"
      ]
     },
     "execution_count": 19,
     "metadata": {},
     "output_type": "execute_result"
    }
   ],
   "source": [
    "'\\u03A9'"
   ]
  },
  {
   "cell_type": "code",
   "execution_count": 21,
   "id": "fe873798-a7e7-4b67-a683-95cac6b2a157",
   "metadata": {},
   "outputs": [
    {
     "data": {
      "text/plain": [
       "'Σ'"
      ]
     },
     "execution_count": 21,
     "metadata": {},
     "output_type": "execute_result"
    }
   ],
   "source": [
    "'\\u03A3'"
   ]
  },
  {
   "cell_type": "code",
   "execution_count": 22,
   "id": "a267a22a-f715-4bcc-ad7e-4820852be1de",
   "metadata": {},
   "outputs": [
    {
     "data": {
      "text/plain": [
       "'mohd anas'"
      ]
     },
     "execution_count": 22,
     "metadata": {},
     "output_type": "execute_result"
    }
   ],
   "source": [
    "'mohd anas'"
   ]
  },
  {
   "cell_type": "code",
   "execution_count": 23,
   "id": "9a80e473-fc0d-497e-9cfc-f5d80c6324da",
   "metadata": {},
   "outputs": [
    {
     "data": {
      "text/plain": [
       "'mohd anas'"
      ]
     },
     "execution_count": 23,
     "metadata": {},
     "output_type": "execute_result"
    }
   ],
   "source": [
    "\"mohd anas\""
   ]
  },
  {
   "cell_type": "code",
   "execution_count": 24,
   "id": "3875b7b9-d5c1-4886-bcd9-704a4a07a3a4",
   "metadata": {},
   "outputs": [
    {
     "data": {
      "text/plain": [
       "\"mohd'anas\""
      ]
     },
     "execution_count": 24,
     "metadata": {},
     "output_type": "execute_result"
    }
   ],
   "source": [
    "\"mohd'anas\""
   ]
  },
  {
   "cell_type": "code",
   "execution_count": 25,
   "id": "5c5b0336-59ae-4141-880b-4053d5cbd17f",
   "metadata": {},
   "outputs": [
    {
     "ename": "SyntaxError",
     "evalue": "unterminated string literal (detected at line 1) (1300768691.py, line 1)",
     "output_type": "error",
     "traceback": [
      "\u001b[0;36m  Cell \u001b[0;32mIn[25], line 1\u001b[0;36m\u001b[0m\n\u001b[0;31m    \"mohd\"anas\"\u001b[0m\n\u001b[0m              ^\u001b[0m\n\u001b[0;31mSyntaxError\u001b[0m\u001b[0;31m:\u001b[0m unterminated string literal (detected at line 1)\n"
     ]
    }
   ],
   "source": [
    "\"mohd\"anas\""
   ]
  },
  {
   "cell_type": "code",
   "execution_count": 26,
   "id": "b48c40b9-307b-4fe5-a994-ad2633c6a801",
   "metadata": {},
   "outputs": [
    {
     "data": {
      "text/plain": [
       "'mohd\"anas'"
      ]
     },
     "execution_count": 26,
     "metadata": {},
     "output_type": "execute_result"
    }
   ],
   "source": [
    "'''mohd\"anas'''"
   ]
  },
  {
   "cell_type": "code",
   "execution_count": 31,
   "id": "23f49a3d-77e8-4074-9a05-dee626fc1ec5",
   "metadata": {},
   "outputs": [
    {
     "data": {
      "text/plain": [
       "'\\na,\\nn,\\na,\\n5'"
      ]
     },
     "execution_count": 31,
     "metadata": {},
     "output_type": "execute_result"
    }
   ],
   "source": [
    "'''\\na,\\nn,\\na,\\n5'''\n"
   ]
  },
  {
   "cell_type": "code",
   "execution_count": 33,
   "id": "c99ec8e9-1d6b-4c6b-98ca-ffad189e6d8c",
   "metadata": {},
   "outputs": [
    {
     "data": {
      "text/plain": [
       "'mohd anas'"
      ]
     },
     "execution_count": 33,
     "metadata": {},
     "output_type": "execute_result"
    }
   ],
   "source": [
    "# concatinate\n",
    "\n",
    "str1=\"mohd\"\n",
    "str2=\" anas\"\n",
    "str1+str2"
   ]
  },
  {
   "cell_type": "code",
   "execution_count": 41,
   "id": "0c7320cd-a9e3-48ce-9d56-0fe212bb589c",
   "metadata": {},
   "outputs": [],
   "source": [
    "#formatting strings\n",
    "\n",
    "first_name=\"mohd\"\n",
    "last_name='anas'\n",
    "full_name=f\"hello,{first_name} {last_name}\""
   ]
  },
  {
   "cell_type": "code",
   "execution_count": 42,
   "id": "9d9283ef-7353-472d-a0fc-a2bcca2fbe05",
   "metadata": {},
   "outputs": [
    {
     "name": "stdout",
     "output_type": "stream",
     "text": [
      "hello,mohd anas\n"
     ]
    }
   ],
   "source": [
    "print(full_name)"
   ]
  },
  {
   "cell_type": "code",
   "execution_count": 44,
   "id": "c2d199cb-8a14-4e24-91f2-fb95001644bf",
   "metadata": {},
   "outputs": [
    {
     "data": {
      "text/plain": [
       "'str > concatinate'"
      ]
     },
     "execution_count": 44,
     "metadata": {},
     "output_type": "execute_result"
    }
   ],
   "source": [
    "\"str\"+\" > \"+\"concatinate\""
   ]
  },
  {
   "cell_type": "code",
   "execution_count": 46,
   "id": "d6ebcd9e-2ab9-4eb8-9287-04727cf2ae27",
   "metadata": {},
   "outputs": [
    {
     "data": {
      "text/plain": [
       "'hello world'"
      ]
     },
     "execution_count": 46,
     "metadata": {},
     "output_type": "execute_result"
    }
   ],
   "source": [
    "string1='hello'\n",
    "string2=' world'\n",
    "# with concatinate \n",
    "string1+string2"
   ]
  },
  {
   "cell_type": "code",
   "execution_count": 51,
   "id": "6435c548-3662-4c71-b7f3-153266c8c32b",
   "metadata": {},
   "outputs": [
    {
     "data": {
      "text/plain": [
       "'welcomr,hello  world'"
      ]
     },
     "execution_count": 51,
     "metadata": {},
     "output_type": "execute_result"
    }
   ],
   "source": [
    "f\"welcomr,{string1} {string2}\""
   ]
  },
  {
   "cell_type": "code",
   "execution_count": 50,
   "id": "93bbdfb9-3f50-421b-bd7f-21b2343cf47b",
   "metadata": {},
   "outputs": [
    {
     "data": {
      "text/plain": [
       "'welcomr,hello  world'"
      ]
     },
     "execution_count": 50,
     "metadata": {},
     "output_type": "execute_result"
    }
   ],
   "source": [
    "#new_string"
   ]
  },
  {
   "cell_type": "code",
   "execution_count": 52,
   "id": "b2a26a67-6fae-4111-ac03-d7adcbbecd81",
   "metadata": {},
   "outputs": [
    {
     "data": {
      "text/plain": [
       "'PWSK'"
      ]
     },
     "execution_count": 52,
     "metadata": {},
     "output_type": "execute_result"
    }
   ],
   "source": [
    "# extract as a string\n",
    "\n",
    "str='PWSKILLS'\n",
    "str[:4]"
   ]
  },
  {
   "cell_type": "code",
   "execution_count": 53,
   "id": "af37c7e0-c1bb-4fbe-aaab-12b172b5da7c",
   "metadata": {},
   "outputs": [
    {
     "data": {
      "text/plain": [
       "'LLS'"
      ]
     },
     "execution_count": 53,
     "metadata": {},
     "output_type": "execute_result"
    }
   ],
   "source": [
    "str[5:]"
   ]
  },
  {
   "cell_type": "code",
   "execution_count": 54,
   "id": "34bdf1d1-b669-4b67-ade6-f8c256691c37",
   "metadata": {},
   "outputs": [
    {
     "data": {
      "text/plain": [
       "'PWSKILLS'"
      ]
     },
     "execution_count": 54,
     "metadata": {},
     "output_type": "execute_result"
    }
   ],
   "source": [
    "str[::1]"
   ]
  },
  {
   "cell_type": "code",
   "execution_count": 55,
   "id": "e5090ea2-2ab1-429b-bc55-84535d3ae9a7",
   "metadata": {},
   "outputs": [
    {
     "data": {
      "text/plain": [
       "'SLLIKSWP'"
      ]
     },
     "execution_count": 55,
     "metadata": {},
     "output_type": "execute_result"
    }
   ],
   "source": [
    "str[::-1]"
   ]
  },
  {
   "cell_type": "code",
   "execution_count": 57,
   "id": "7f713022-ab92-40a4-b212-34ed25c06198",
   "metadata": {},
   "outputs": [
    {
     "data": {
      "text/plain": [
       "'PSIL'"
      ]
     },
     "execution_count": 57,
     "metadata": {},
     "output_type": "execute_result"
    }
   ],
   "source": [
    "str[::2]"
   ]
  },
  {
   "cell_type": "code",
   "execution_count": 61,
   "id": "d5dd3ff6-9dc2-46bc-8803-d28dbed6b94e",
   "metadata": {},
   "outputs": [
    {
     "data": {
      "text/plain": [
       "'LLS'"
      ]
     },
     "execution_count": 61,
     "metadata": {},
     "output_type": "execute_result"
    }
   ],
   "source": [
    "str[-3:]"
   ]
  },
  {
   "cell_type": "code",
   "execution_count": 63,
   "id": "6648a2fd-0926-4857-bd99-ade7d3f28a06",
   "metadata": {},
   "outputs": [
    {
     "data": {
      "text/plain": [
       "'i'"
      ]
     },
     "execution_count": 63,
     "metadata": {},
     "output_type": "execute_result"
    }
   ],
   "source": [
    "# string is immutable directly\n",
    "s='pwskills'\n",
    "s[4]   "
   ]
  },
  {
   "cell_type": "code",
   "execution_count": 64,
   "id": "1401890e-e1c4-404f-a18d-4450588597b2",
   "metadata": {},
   "outputs": [
    {
     "data": {
      "text/plain": [
       "'l'"
      ]
     },
     "execution_count": 64,
     "metadata": {},
     "output_type": "execute_result"
    }
   ],
   "source": [
    "s[-3]"
   ]
  },
  {
   "cell_type": "code",
   "execution_count": 65,
   "id": "e1580755-758d-49ce-9121-f18d1e0879e9",
   "metadata": {},
   "outputs": [
    {
     "data": {
      "text/plain": [
       "'s'"
      ]
     },
     "execution_count": 65,
     "metadata": {},
     "output_type": "execute_result"
    }
   ],
   "source": [
    "s[-1]"
   ]
  },
  {
   "cell_type": "code",
   "execution_count": 66,
   "id": "7f20597b-a46c-43c3-b672-fb5479293b62",
   "metadata": {},
   "outputs": [
    {
     "ename": "SyntaxError",
     "evalue": "invalid syntax (3086730881.py, line 1)",
     "output_type": "error",
     "traceback": [
      "\u001b[0;36m  Cell \u001b[0;32mIn[66], line 1\u001b[0;36m\u001b[0m\n\u001b[0;31m    s[-]\u001b[0m\n\u001b[0m       ^\u001b[0m\n\u001b[0;31mSyntaxError\u001b[0m\u001b[0;31m:\u001b[0m invalid syntax\n"
     ]
    }
   ],
   "source": [
    "s[-]"
   ]
  },
  {
   "cell_type": "code",
   "execution_count": 68,
   "id": "495f20ac-c8b1-4d46-92c0-b79a53d0eaec",
   "metadata": {},
   "outputs": [
    {
     "ename": "TypeError",
     "evalue": "'str' object does not support item assignment",
     "output_type": "error",
     "traceback": [
      "\u001b[0;31m---------------------------------------------------------------------------\u001b[0m",
      "\u001b[0;31mTypeError\u001b[0m                                 Traceback (most recent call last)",
      "Cell \u001b[0;32mIn[68], line 1\u001b[0m\n\u001b[0;32m----> 1\u001b[0m \u001b[43ms\u001b[49m\u001b[43m[\u001b[49m\u001b[38;5;241;43m4\u001b[39;49m\u001b[43m]\u001b[49m\u001b[38;5;241m=\u001b[39m\u001b[38;5;124m'\u001b[39m\u001b[38;5;124my\u001b[39m\u001b[38;5;124m'\u001b[39m\n",
      "\u001b[0;31mTypeError\u001b[0m: 'str' object does not support item assignment"
     ]
    }
   ],
   "source": [
    "s[4]='y'\n"
   ]
  },
  {
   "cell_type": "code",
   "execution_count": 69,
   "id": "325fcf2d-6bf0-4344-a24e-3f3f1fe63981",
   "metadata": {},
   "outputs": [
    {
     "ename": "AttributeError",
     "evalue": "'str' object has no attribute 'append'",
     "output_type": "error",
     "traceback": [
      "\u001b[0;31m---------------------------------------------------------------------------\u001b[0m",
      "\u001b[0;31mAttributeError\u001b[0m                            Traceback (most recent call last)",
      "Cell \u001b[0;32mIn[69], line 1\u001b[0m\n\u001b[0;32m----> 1\u001b[0m \u001b[43ms\u001b[49m\u001b[38;5;241;43m.\u001b[39;49m\u001b[43mappend\u001b[49m[\u001b[38;5;124m\"\u001b[39m\u001b[38;5;124my\u001b[39m\u001b[38;5;124m\"\u001b[39m]\n",
      "\u001b[0;31mAttributeError\u001b[0m: 'str' object has no attribute 'append'"
     ]
    }
   ],
   "source": [
    "s.append[\"y\"]"
   ]
  },
  {
   "cell_type": "code",
   "execution_count": 70,
   "id": "be04e5e9-d9c0-4981-9039-f3fcd937b24b",
   "metadata": {},
   "outputs": [
    {
     "ename": "AttributeError",
     "evalue": "'str' object has no attribute 'append'",
     "output_type": "error",
     "traceback": [
      "\u001b[0;31m---------------------------------------------------------------------------\u001b[0m",
      "\u001b[0;31mAttributeError\u001b[0m                            Traceback (most recent call last)",
      "Cell \u001b[0;32mIn[70], line 1\u001b[0m\n\u001b[0;32m----> 1\u001b[0m \u001b[43ms\u001b[49m\u001b[38;5;241;43m.\u001b[39;49m\u001b[43mappend\u001b[49m(\u001b[38;5;124m\"\u001b[39m\u001b[38;5;124my\u001b[39m\u001b[38;5;124m\"\u001b[39m)\n",
      "\u001b[0;31mAttributeError\u001b[0m: 'str' object has no attribute 'append'"
     ]
    }
   ],
   "source": [
    "s.append(\"y\")"
   ]
  },
  {
   "cell_type": "code",
   "execution_count": 71,
   "id": "6405c5ae-8b22-4c15-9cd7-9b3cc6a73d4c",
   "metadata": {},
   "outputs": [
    {
     "data": {
      "text/plain": [
       "8"
      ]
     },
     "execution_count": 71,
     "metadata": {},
     "output_type": "execute_result"
    }
   ],
   "source": [
    "len(s)"
   ]
  },
  {
   "cell_type": "code",
   "execution_count": 72,
   "id": "ddb302c2-505c-41bb-9853-b8b04278a4ab",
   "metadata": {},
   "outputs": [
    {
     "data": {
      "text/plain": [
       "15"
      ]
     },
     "execution_count": 72,
     "metadata": {},
     "output_type": "execute_result"
    }
   ],
   "source": [
    "len(full_name)"
   ]
  },
  {
   "cell_type": "code",
   "execution_count": 73,
   "id": "4e4f3cfe-a3e9-4f6f-94c1-01ba9540e49e",
   "metadata": {},
   "outputs": [
    {
     "data": {
      "text/plain": [
       "'i am a teacher'"
      ]
     },
     "execution_count": 73,
     "metadata": {},
     "output_type": "execute_result"
    }
   ],
   "source": [
    "# we can't change in strings but we can modification in strings\n",
    "\n",
    "s='i am a student'\n",
    "s.replace(\"student\",\"teacher\")"
   ]
  },
  {
   "cell_type": "code",
   "execution_count": 74,
   "id": "b3676278-d85a-4b8b-a9c5-29b3bb9acc7e",
   "metadata": {},
   "outputs": [
    {
     "data": {
      "text/plain": [
       "'flight is late'"
      ]
     },
     "execution_count": 74,
     "metadata": {},
     "output_type": "execute_result"
    }
   ],
   "source": [
    "t=\"train is late\"\n",
    "t.replace(\"train\",\"flight\")"
   ]
  },
  {
   "cell_type": "code",
   "execution_count": 76,
   "id": "4c99f3fb-75fc-4bdc-b821-eea4c1e7cef8",
   "metadata": {},
   "outputs": [
    {
     "data": {
      "text/plain": [
       "'faislabad bypass road, noor masjid bualandshahr'"
      ]
     },
     "execution_count": 76,
     "metadata": {},
     "output_type": "execute_result"
    }
   ],
   "source": [
    "address= \"faislabad bypass road, noor masjid bsr\"\n",
    "address. replace('bsr','bualandshahr')"
   ]
  },
  {
   "cell_type": "code",
   "execution_count": 87,
   "id": "936f8518-464c-4691-a695-232f3bbf4333",
   "metadata": {},
   "outputs": [
    {
     "data": {
      "text/plain": [
       "'be right back , talk to you later , laughing out loud'"
      ]
     },
     "execution_count": 87,
     "metadata": {},
     "output_type": "execute_result"
    }
   ],
   "source": [
    "# may a string replace in line\n",
    "\n",
    "text=(\"BRB , TTYL , LOL\")\n",
    "text.replace('BRB','be right back').replace('TTYL','talk to you later').replace('LOL','laughing out loud')"
   ]
  },
  {
   "cell_type": "code",
   "execution_count": 88,
   "id": "4d62467a-a438-422f-91f3-602bf94bc560",
   "metadata": {},
   "outputs": [
    {
     "data": {
      "text/plain": [
       "'be right back,talk to you later,laughing out loud'"
      ]
     },
     "execution_count": 88,
     "metadata": {},
     "output_type": "execute_result"
    }
   ],
   "source": [
    "text1=(\"BRB,TTYL,LOL\")\n",
    "text1.replace(\"BRB\",\"be right back\").replace(\"TTYL\",\"talk to you later\").replace(\"LOL\",\"laughing out loud\")"
   ]
  },
  {
   "cell_type": "code",
   "execution_count": 89,
   "id": "47a08050-14a7-4ee5-9f3a-e8ae273d449a",
   "metadata": {},
   "outputs": [
    {
     "data": {
      "text/plain": [
       "'hello,world'"
      ]
     },
     "execution_count": 89,
     "metadata": {},
     "output_type": "execute_result"
    }
   ],
   "source": [
    "text=\"Hello,World\"\n",
    "text.lower()"
   ]
  },
  {
   "cell_type": "code",
   "execution_count": 90,
   "id": "cc3ce342-ef25-47f6-b984-aee339be0356",
   "metadata": {},
   "outputs": [
    {
     "data": {
      "text/plain": [
       "'HELLO,WORLD'"
      ]
     },
     "execution_count": 90,
     "metadata": {},
     "output_type": "execute_result"
    }
   ],
   "source": [
    "text.upper()"
   ]
  },
  {
   "cell_type": "code",
   "execution_count": 93,
   "id": "7126c3e6-a228-4e5d-b69f-b6ddda9004b6",
   "metadata": {},
   "outputs": [
    {
     "data": {
      "text/plain": [
       "'Hello,World'"
      ]
     },
     "execution_count": 93,
     "metadata": {},
     "output_type": "execute_result"
    }
   ],
   "source": [
    "text.title()"
   ]
  },
  {
   "cell_type": "code",
   "execution_count": 94,
   "id": "e6a2e116-3693-440b-945a-66d9e6e877d2",
   "metadata": {},
   "outputs": [
    {
     "data": {
      "text/plain": [
       "'Hello,world'"
      ]
     },
     "execution_count": 94,
     "metadata": {},
     "output_type": "execute_result"
    }
   ],
   "source": [
    "text.capitalize()\n"
   ]
  },
  {
   "cell_type": "code",
   "execution_count": 95,
   "id": "12ec129f-8977-4143-aa62-72a4f1a7af9c",
   "metadata": {},
   "outputs": [
    {
     "data": {
      "text/plain": [
       "'Hello,World'"
      ]
     },
     "execution_count": 95,
     "metadata": {},
     "output_type": "execute_result"
    }
   ],
   "source": [
    "text"
   ]
  },
  {
   "cell_type": "code",
   "execution_count": 97,
   "id": "421d1ab4-ebb7-4366-832f-df701f49b5d2",
   "metadata": {},
   "outputs": [
    {
     "data": {
      "text/plain": [
       "'hELLO,wORLD'"
      ]
     },
     "execution_count": 97,
     "metadata": {},
     "output_type": "execute_result"
    }
   ],
   "source": [
    "text.swapcase()"
   ]
  },
  {
   "cell_type": "code",
   "execution_count": 98,
   "id": "078366c6-e288-4d53-a1f3-cc6951e007f1",
   "metadata": {},
   "outputs": [
    {
     "data": {
      "text/plain": [
       "True"
      ]
     },
     "execution_count": 98,
     "metadata": {},
     "output_type": "execute_result"
    }
   ],
   "source": [
    "#searching a word in a sentence\n",
    "text= \" i am a student\"\n",
    "\"student\" in text    "
   ]
  },
  {
   "cell_type": "code",
   "execution_count": 99,
   "id": "c8680da0-805b-4df9-aa9e-16fadae622af",
   "metadata": {},
   "outputs": [
    {
     "data": {
      "text/plain": [
       "False"
      ]
     },
     "execution_count": 99,
     "metadata": {},
     "output_type": "execute_result"
    }
   ],
   "source": [
    "\"banana\" in text"
   ]
  },
  {
   "cell_type": "code",
   "execution_count": 105,
   "id": "055eb5c9-f4fe-4869-b3af-1bfe588c641d",
   "metadata": {},
   "outputs": [
    {
     "name": "stdin",
     "output_type": "stream",
     "text": [
      "enter some thng student\n"
     ]
    },
    {
     "name": "stdout",
     "output_type": "stream",
     "text": [
      "this is presence\n"
     ]
    }
   ],
   "source": [
    "#wat to find a word\n",
    "s=input(\"enter some thng\")\n",
    "text=\"i am a student\"\n",
    "if s in text:\n",
    "    print(\"this is presence\")\n",
    "else:\n",
    "    print(\"this is nor presence\")"
   ]
  },
  {
   "cell_type": "code",
   "execution_count": 108,
   "id": "db6fb7b9-749e-493f-a28a-c0a6f1970663",
   "metadata": {},
   "outputs": [
    {
     "data": {
      "text/plain": [
       "['ajay', 'karan', 'vijay']"
      ]
     },
     "execution_count": 108,
     "metadata": {},
     "output_type": "execute_result"
    }
   ],
   "source": [
    "# sttring ordering\n",
    "names=[\"ajay\", \"vijay\", \"karan\"]\n",
    "sorted(names)"
   ]
  },
  {
   "cell_type": "code",
   "execution_count": 109,
   "id": "97aa620c-4c15-48a1-b41e-b216fd7eb44c",
   "metadata": {},
   "outputs": [],
   "source": [
    "playlist=[\"kuchh\",\"magic\",\"hello\",\"world\"]"
   ]
  },
  {
   "cell_type": "code",
   "execution_count": 110,
   "id": "c9375feb-0a0a-4110-b98b-6a15ce4a96a0",
   "metadata": {},
   "outputs": [
    {
     "data": {
      "text/plain": [
       "['hello', 'kuchh', 'magic', 'world']"
      ]
     },
     "execution_count": 110,
     "metadata": {},
     "output_type": "execute_result"
    }
   ],
   "source": [
    "sorted(playlist)"
   ]
  },
  {
   "cell_type": "code",
   "execution_count": 111,
   "id": "5490a688-64de-4eda-bf69-39889e018734",
   "metadata": {},
   "outputs": [
    {
     "data": {
      "text/plain": [
       "'nokia'"
      ]
     },
     "execution_count": 111,
     "metadata": {},
     "output_type": "execute_result"
    }
   ],
   "source": [
    "str=\"       nokia       \"\n",
    "str.strip()"
   ]
  },
  {
   "cell_type": "code",
   "execution_count": 112,
   "id": "2e0d397d-90dc-4084-9a28-23b2f0e898cc",
   "metadata": {},
   "outputs": [
    {
     "ename": "AttributeError",
     "evalue": "'list' object has no attribute 'strip'",
     "output_type": "error",
     "traceback": [
      "\u001b[0;31m---------------------------------------------------------------------------\u001b[0m",
      "\u001b[0;31mAttributeError\u001b[0m                            Traceback (most recent call last)",
      "Cell \u001b[0;32mIn[112], line 2\u001b[0m\n\u001b[1;32m      1\u001b[0m name\u001b[38;5;241m=\u001b[39m[\u001b[38;5;124m\"\u001b[39m\u001b[38;5;124m      mohd    anas      \u001b[39m\u001b[38;5;124m\"\u001b[39m]\n\u001b[0;32m----> 2\u001b[0m \u001b[43mname\u001b[49m\u001b[38;5;241;43m.\u001b[39;49m\u001b[43mstrip\u001b[49m()\n",
      "\u001b[0;31mAttributeError\u001b[0m: 'list' object has no attribute 'strip'"
     ]
    }
   ],
   "source": [
    "name=[\"      mohd    anas      \"]\n",
    "name.strip()"
   ]
  },
  {
   "cell_type": "code",
   "execution_count": null,
   "id": "b6c58716-c9b9-4446-ab81-4ea27f368a77",
   "metadata": {},
   "outputs": [],
   "source": []
  }
 ],
 "metadata": {
  "kernelspec": {
   "display_name": "Python 3 (ipykernel)",
   "language": "python",
   "name": "python3"
  },
  "language_info": {
   "codemirror_mode": {
    "name": "ipython",
    "version": 3
   },
   "file_extension": ".py",
   "mimetype": "text/x-python",
   "name": "python",
   "nbconvert_exporter": "python",
   "pygments_lexer": "ipython3",
   "version": "3.10.8"
  }
 },
 "nbformat": 4,
 "nbformat_minor": 5
}
