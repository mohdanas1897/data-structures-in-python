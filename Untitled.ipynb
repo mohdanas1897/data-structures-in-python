{
 "cells": [
  {
   "cell_type": "code",
   "execution_count": 32,
   "id": "2ab61d28-1dd3-42dc-8e32-7e485a554347",
   "metadata": {},
   "outputs": [
    {
     "name": "stdout",
     "output_type": "stream",
     "text": [
      "2\n",
      "3\n",
      "4\n"
     ]
    }
   ],
   "source": [
    "num=9\n",
    "i=1\n",
    "while i < num:\n",
    "    i=i+1\n",
    "    if i==5:\n",
    "        break\n",
    "    print (i)\n",
    "else:\n",
    "    print(\"this is excutesd by while loop\")"
   ]
  },
  {
   "cell_type": "code",
   "execution_count": 7,
   "id": "481d8bd1-acde-4f50-a536-16eb56d3c628",
   "metadata": {},
   "outputs": [
    {
     "name": "stdout",
     "output_type": "stream",
     "text": [
      "9\n",
      "8\n",
      "7\n",
      "6\n",
      "5\n",
      "4\n",
      "3\n"
     ]
    }
   ],
   "source": [
    "n=0\n",
    "i=9\n",
    "while i>n:\n",
    "    print(i)\n",
    "    i-=1\n",
    "    if i==2:\n",
    "        break\n",
    "else:\n",
    "    print(\"while loop is excuted\")"
   ]
  },
  {
   "cell_type": "code",
   "execution_count": 17,
   "id": "4bfd9688-af96-468d-a04e-2e9582195865",
   "metadata": {},
   "outputs": [
    {
     "name": "stdout",
     "output_type": "stream",
     "text": [
      "1\n",
      "2\n",
      "3\n",
      "4\n",
      "5\n",
      "6\n",
      "8\n",
      "9\n",
      "10\n",
      "excuted by while loop\n"
     ]
    }
   ],
   "source": [
    "n=10\n",
    "i=0\n",
    "while i<n:\n",
    "    i=i+1\n",
    "    if i==7:\n",
    "        continue\n",
    "    print (i)\n",
    "else:\n",
    "    print(\"excuted by while loop\")"
   ]
  },
  {
   "cell_type": "code",
   "execution_count": null,
   "id": "1b3c30c2-7704-4b5e-8831-ce81624d1484",
   "metadata": {},
   "outputs": [],
   "source": []
  },
  {
   "cell_type": "code",
   "execution_count": null,
   "id": "c507e198-61d6-4167-af54-9b51e28b7df5",
   "metadata": {},
   "outputs": [],
   "source": []
  },
  {
   "cell_type": "code",
   "execution_count": 18,
   "id": "7e1ae6ae-8bbc-412f-941f-c50252fac9bf",
   "metadata": {},
   "outputs": [
    {
     "name": "stdout",
     "output_type": "stream",
     "text": [
      "m\n",
      "o\n",
      "h\n",
      "d\n",
      "a\n",
      "n\n",
      "a\n",
      "s\n"
     ]
    }
   ],
   "source": [
    "a=\"mohdanas\"\n",
    "for i in a:\n",
    "    print(i)"
   ]
  },
  {
   "cell_type": "code",
   "execution_count": 19,
   "id": "c31407c6-ddab-4109-9382-09236aa085b7",
   "metadata": {},
   "outputs": [
    {
     "name": "stdout",
     "output_type": "stream",
     "text": [
      "1\n",
      "2\n",
      "5\n",
      "4\n",
      "8\n",
      "9\n",
      "6\n",
      "3\n",
      "7\n",
      "4\n",
      "8\n",
      "5\n"
     ]
    }
   ],
   "source": [
    "a=(1,2,5,4,8,9,6,3,7,4,8,5,)\n",
    "for i in a:\n",
    "    print (i)"
   ]
  },
  {
   "cell_type": "code",
   "execution_count": 20,
   "id": "6518da21-da59-440a-904a-a89c5946227f",
   "metadata": {},
   "outputs": [
    {
     "name": "stdout",
     "output_type": "stream",
     "text": [
      "1\n",
      "5\n",
      "85\n",
      "65\n",
      "36\n",
      "khan\n",
      "sahil\n"
     ]
    }
   ],
   "source": [
    "a=(1,5,85,65,36,\"khan\",\"sahil\")\n",
    "for i in a:\n",
    "    print (i)"
   ]
  },
  {
   "cell_type": "code",
   "execution_count": 31,
   "id": "cde72ddb-a781-4204-a4b6-8697cd66c9f8",
   "metadata": {},
   "outputs": [
    {
     "name": "stdout",
     "output_type": "stream",
     "text": [
      "1\n",
      "5\n",
      "85\n",
      "65\n",
      "36\n",
      "sahil\n",
      "excuted by for loop\n"
     ]
    }
   ],
   "source": [
    "for i in a:\n",
    "    if i==\"khan\":\n",
    "        continue\n",
    "    print(i)\n",
    "else:\n",
    "    print(\"excuted by for loop\")"
   ]
  },
  {
   "cell_type": "code",
   "execution_count": 34,
   "id": "31444ddb-99ce-40fb-92bb-265fd2116355",
   "metadata": {},
   "outputs": [
    {
     "name": "stdout",
     "output_type": "stream",
     "text": [
      "0\n",
      "1\n",
      "2\n",
      "3\n",
      "4\n",
      "5\n",
      "6\n",
      "7\n",
      "8\n",
      "9\n"
     ]
    }
   ],
   "source": [
    "for i in range(10):\n",
    "    print (i)"
   ]
  },
  {
   "cell_type": "code",
   "execution_count": 38,
   "id": "923095e8-eaa6-409d-9e70-107d9d7e4677",
   "metadata": {},
   "outputs": [
    {
     "data": {
      "text/plain": [
       "(0, 1, 2, 3, 4, 5, 6, 7, 8, 9)"
      ]
     },
     "execution_count": 38,
     "metadata": {},
     "output_type": "execute_result"
    }
   ],
   "source": [
    "tuple(range(0,10))"
   ]
  },
  {
   "cell_type": "code",
   "execution_count": null,
   "id": "0677e7da-22a3-4c9d-a042-aeeb61ba977b",
   "metadata": {},
   "outputs": [],
   "source": [
    "list(range(0,10,2))"
   ]
  },
  {
   "cell_type": "code",
   "execution_count": 7,
   "id": "1f3b2370-5335-499b-8f48-b29fa74a19e4",
   "metadata": {},
   "outputs": [
    {
     "name": "stdout",
     "output_type": "stream",
     "text": [
      "* \n",
      "* * \n",
      "* * * \n",
      "* * * * \n"
     ]
    }
   ],
   "source": [
    "row =1\n",
    "while row <=4:\n",
    "    col=1\n",
    "    while col <=row:\n",
    "        print(\"*\",end =\" \")\n",
    "        col=col+1\n",
    "    print()\n",
    "    row=row+1"
   ]
  },
  {
   "cell_type": "code",
   "execution_count": null,
   "id": "16ddea84-d3cb-4078-9d8d-8f4281af5d28",
   "metadata": {},
   "outputs": [],
   "source": [
    "course=[\"data science\", \"ML\", \"stats\"]\n",
    "index=0\n",
    "while index <len(course):\n",
    "    print(course [index])\n",
    "    index=index+1\n"
   ]
  },
  {
   "cell_type": "code",
   "execution_count": null,
   "id": "e5a09209-224e-4334-bca9-7c4b2658f841",
   "metadata": {},
   "outputs": [],
   "source": [
    "for i in range(4):\n",
    "    for j in range (j+1):\n",
    "        print(\"*\",end=\"\")\n",
    "    print()    "
   ]
  },
  {
   "cell_type": "code",
   "execution_count": null,
   "id": "2b8ae86a-a1a5-4129-b473-5a38214e8faf",
   "metadata": {},
   "outputs": [],
   "source": [
    "number=[1,2,3,4,5,6,7,8,9]\n",
    "while number in number:\n",
    "    if (number ==3) or (number ==7):\n",
    "        continue \n",
    "        print(number)"
   ]
  },
  {
   "cell_type": "code",
   "execution_count": null,
   "id": "7c9c37b4-669b-4986-901e-6a38598f313c",
   "metadata": {},
   "outputs": [],
   "source": [
    "# same as it is in break function "
   ]
  },
  {
   "cell_type": "code",
   "execution_count": null,
   "id": "86105ff2-a9a6-4adf-ad51-dde038ed299d",
   "metadata": {},
   "outputs": [],
   "source": []
  }
 ],
 "metadata": {
  "kernelspec": {
   "display_name": "Python 3 (ipykernel)",
   "language": "python",
   "name": "python3"
  },
  "language_info": {
   "codemirror_mode": {
    "name": "ipython",
    "version": 3
   },
   "file_extension": ".py",
   "mimetype": "text/x-python",
   "name": "python",
   "nbconvert_exporter": "python",
   "pygments_lexer": "ipython3",
   "version": "3.10.8"
  }
 },
 "nbformat": 4,
 "nbformat_minor": 5
}
