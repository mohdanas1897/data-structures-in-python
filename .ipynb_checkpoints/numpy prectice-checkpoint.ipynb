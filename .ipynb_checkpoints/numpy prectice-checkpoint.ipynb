{
 "cells": [
  {
   "cell_type": "code",
   "execution_count": 1,
   "id": "92d70dd8-bf22-45b8-abe8-f4875a5d1153",
   "metadata": {},
   "outputs": [],
   "source": [
    "import numpy as np\n",
    "l=[1,2,3,4,5,6,7]\n",
    "a=np.array(l)"
   ]
  },
  {
   "cell_type": "code",
   "execution_count": 10,
   "id": "40f3e042-ebf3-4b5e-9b12-a95a482f4842",
   "metadata": {},
   "outputs": [
    {
     "data": {
      "text/plain": [
       "1"
      ]
     },
     "execution_count": 10,
     "metadata": {},
     "output_type": "execute_result"
    }
   ],
   "source": [
    "a.ndim"
   ]
  },
  {
   "cell_type": "code",
   "execution_count": 7,
   "id": "93bc5f20-5624-4843-9dca-1eb6a17fa5c7",
   "metadata": {},
   "outputs": [
    {
     "data": {
      "text/plain": [
       "array([2. , 5. , 8. , 9. , 5. , 6. , 2.1])"
      ]
     },
     "execution_count": 7,
     "metadata": {},
     "output_type": "execute_result"
    }
   ],
   "source": [
    "l2=[2,5,8,9,5,6,2.1]\n",
    "b=np.array(l2)\n",
    "b"
   ]
  },
  {
   "cell_type": "code",
   "execution_count": 9,
   "id": "220a50af-7b50-44b5-96ea-097ad8355c35",
   "metadata": {},
   "outputs": [
    {
     "data": {
      "text/plain": [
       "1"
      ]
     },
     "execution_count": 9,
     "metadata": {},
     "output_type": "execute_result"
    }
   ],
   "source": [
    "b.ndim"
   ]
  },
  {
   "cell_type": "code",
   "execution_count": 12,
   "id": "84a40754-83ed-41ee-83f5-f674798a5601",
   "metadata": {},
   "outputs": [
    {
     "data": {
      "text/plain": [
       "matrix([[1, 2, 3, 4]])"
      ]
     },
     "execution_count": 12,
     "metadata": {},
     "output_type": "execute_result"
    }
   ],
   "source": [
    "mat=np.mat([1,2,3,4])\n",
    "mat"
   ]
  },
  {
   "cell_type": "code",
   "execution_count": 14,
   "id": "62bc933c-4fe8-49be-9ee1-468eb2069e79",
   "metadata": {},
   "outputs": [
    {
     "data": {
      "text/plain": [
       "2"
      ]
     },
     "execution_count": 14,
     "metadata": {},
     "output_type": "execute_result"
    }
   ],
   "source": [
    "mat.ndim"
   ]
  },
  {
   "cell_type": "markdown",
   "id": "c352bb7e-544f-488b-ad63-535424ae717a",
   "metadata": {},
   "source": [
    "c=mat.ndim"
   ]
  },
  {
   "cell_type": "code",
   "execution_count": 4,
   "id": "a3828bd4-8b47-4e1d-92ec-20c1ec4ffdd2",
   "metadata": {},
   "outputs": [
    {
     "data": {
      "text/plain": [
       "2"
      ]
     },
     "execution_count": 4,
     "metadata": {},
     "output_type": "execute_result"
    }
   ],
   "source": [
    "import numpy as np\n",
    "l=([1,2,3],[4,5,6])\n",
    "arr=np.array(l)\n",
    "arr\n",
    "arr.ndim"
   ]
  },
  {
   "cell_type": "raw",
   "id": "911f90f8-29a4-47a9-8e85-8213dbaaeb6d",
   "metadata": {},
   "source": [
    "arr.shape"
   ]
  },
  {
   "cell_type": "code",
   "execution_count": 2,
   "id": "8dff54d1-7a21-4145-8779-ea523e3d2f87",
   "metadata": {},
   "outputs": [
    {
     "data": {
      "text/plain": [
       "array([1, 2, 3, 4, 5, 6, 7, 8])"
      ]
     },
     "execution_count": 2,
     "metadata": {},
     "output_type": "execute_result"
    }
   ],
   "source": [
    "import numpy as np\n",
    "l1=[1,2,3,4,5,6,7,8]\n",
    "arr1=np.asarray(l1)\n",
    "arr1"
   ]
  },
  {
   "cell_type": "code",
   "execution_count": 4,
   "id": "e3f2eb36-1b24-45b7-8ae5-6a158142dce0",
   "metadata": {},
   "outputs": [
    {
     "data": {
      "text/plain": [
       "array([1, 2, 3, 4, 5, 6, 7, 8])"
      ]
     },
     "execution_count": 4,
     "metadata": {},
     "output_type": "execute_result"
    }
   ],
   "source": [
    "L1=(1,2,3,4,5,6,8)\n",
    "arr=np.asarray(l1)\n",
    "arr"
   ]
  },
  {
   "cell_type": "code",
   "execution_count": 107,
   "id": "b90c4b7a-b5a0-4425-8faf-b6c0805f90cc",
   "metadata": {},
   "outputs": [
    {
     "data": {
      "text/plain": [
       "(2, 3)"
      ]
     },
     "execution_count": 107,
     "metadata": {},
     "output_type": "execute_result"
    }
   ],
   "source": [
    "arr.shape"
   ]
  },
  {
   "cell_type": "markdown",
   "id": "5979c3b6-a8fd-4ae3-9b08-2fdbdb16f7e3",
   "metadata": {},
   "source": [
    "a=arr.ndim\n",
    "\n",
    "a"
   ]
  },
  {
   "cell_type": "code",
   "execution_count": 9,
   "id": "99aaa401-6cd2-4648-b597-7fbd84c99f69",
   "metadata": {},
   "outputs": [
    {
     "data": {
      "text/plain": [
       "array([[1, 2, 3, 4]])"
      ]
     },
     "execution_count": 9,
     "metadata": {},
     "output_type": "execute_result"
    }
   ],
   "source": [
    "b=([[1,2,3,4]])\n",
    "arr=np.array(b)\n",
    "arr\n"
   ]
  },
  {
   "cell_type": "code",
   "execution_count": 11,
   "id": "0bb52ca5-e86d-4268-9b53-6f0e761fb1c0",
   "metadata": {},
   "outputs": [
    {
     "data": {
      "text/plain": [
       "2"
      ]
     },
     "execution_count": 11,
     "metadata": {},
     "output_type": "execute_result"
    }
   ],
   "source": [
    "arr.ndim"
   ]
  },
  {
   "cell_type": "code",
   "execution_count": 12,
   "id": "b7413bc5-8ee0-4da1-9253-cccf79596dd3",
   "metadata": {},
   "outputs": [],
   "source": [
    "arr=np.asarray(b)"
   ]
  },
  {
   "cell_type": "code",
   "execution_count": 13,
   "id": "c43d0358-befc-48c0-8854-34c5a446f49c",
   "metadata": {},
   "outputs": [
    {
     "data": {
      "text/plain": [
       "array([[1, 2, 3, 4]])"
      ]
     },
     "execution_count": 13,
     "metadata": {},
     "output_type": "execute_result"
    }
   ],
   "source": [
    "arr"
   ]
  },
  {
   "cell_type": "code",
   "execution_count": 14,
   "id": "3f6c3502-faab-41e7-97c1-6baa042cf2ef",
   "metadata": {},
   "outputs": [
    {
     "data": {
      "text/plain": [
       "2"
      ]
     },
     "execution_count": 14,
     "metadata": {},
     "output_type": "execute_result"
    }
   ],
   "source": [
    "arr.ndim"
   ]
  },
  {
   "cell_type": "code",
   "execution_count": 17,
   "id": "d701a398-4dfb-4907-9cfe-39fda4d8e612",
   "metadata": {},
   "outputs": [
    {
     "data": {
      "text/plain": [
       "array([[1, 2, 3, 4]])"
      ]
     },
     "execution_count": 17,
     "metadata": {},
     "output_type": "execute_result"
    }
   ],
   "source": [
    "arr1=np.asarray(arr)\n",
    "arr1\n"
   ]
  },
  {
   "cell_type": "code",
   "execution_count": 108,
   "id": "e27429a0-c540-4c8b-a9b9-d017f996de69",
   "metadata": {},
   "outputs": [
    {
     "data": {
      "text/plain": [
       "2"
      ]
     },
     "execution_count": 108,
     "metadata": {},
     "output_type": "execute_result"
    }
   ],
   "source": [
    "\n",
    "arr.ndim"
   ]
  },
  {
   "cell_type": "code",
   "execution_count": 5,
   "id": "5d0f64d5-beb9-4c76-9c5b-4b7f195ead4d",
   "metadata": {},
   "outputs": [
    {
     "data": {
      "text/plain": [
       "array([12, 54, 95, 85,  5, 69,  8,  5,  8])"
      ]
     },
     "execution_count": 5,
     "metadata": {},
     "output_type": "execute_result"
    }
   ],
   "source": [
    "import numpy as np\n",
    "l2=[12,54,95,85,5,69,8,5,8]\n",
    "m=np.asarray(l2)\n",
    "m"
   ]
  },
  {
   "cell_type": "code",
   "execution_count": 34,
   "id": "9e13639b-d2d5-4386-a1d6-529b12201832",
   "metadata": {},
   "outputs": [
    {
     "data": {
      "text/plain": [
       "matrix([[1, 2, 3],\n",
       "        [4, 5, 6]])"
      ]
     },
     "execution_count": 34,
     "metadata": {},
     "output_type": "execute_result"
    }
   ],
   "source": [
    "t=([1,2,3],[4,5,6])\n",
    "arr=(np.mat(t))\n",
    "arr"
   ]
  },
  {
   "cell_type": "code",
   "execution_count": 31,
   "id": "92e3654e-a769-49c1-9ce5-9fb5c1df4027",
   "metadata": {},
   "outputs": [
    {
     "data": {
      "text/plain": [
       "2"
      ]
     },
     "execution_count": 31,
     "metadata": {},
     "output_type": "execute_result"
    }
   ],
   "source": [
    "arr.ndim"
   ]
  },
  {
   "cell_type": "code",
   "execution_count": 36,
   "id": "459b6104-00d4-46e0-957b-41ba61f761a2",
   "metadata": {},
   "outputs": [
    {
     "data": {
      "text/plain": [
       "array([ 2,  5,  5, 65, 56,  8, 85])"
      ]
     },
     "execution_count": 36,
     "metadata": {},
     "output_type": "execute_result"
    }
   ],
   "source": [
    "l=[2,5,5,65,56,8,85]\n",
    "arr=np.array(l)\n",
    "arr"
   ]
  },
  {
   "cell_type": "code",
   "execution_count": 43,
   "id": "0976a95f-7aaa-4a78-875b-c08e666aa8ed",
   "metadata": {},
   "outputs": [
    {
     "data": {
      "text/plain": [
       "85"
      ]
     },
     "execution_count": 43,
     "metadata": {},
     "output_type": "execute_result"
    }
   ],
   "source": [
    "arr[6]"
   ]
  },
  {
   "cell_type": "code",
   "execution_count": null,
   "id": "a93f3ae7-9f9a-4e99-bad1-310fac5144d3",
   "metadata": {},
   "outputs": [],
   "source": [
    "a=arr"
   ]
  },
  {
   "cell_type": "code",
   "execution_count": 47,
   "id": "7c714f11-9a6d-4d40-a352-58e1d9281b72",
   "metadata": {},
   "outputs": [],
   "source": [
    "arr[1]=1000"
   ]
  },
  {
   "cell_type": "code",
   "execution_count": 48,
   "id": "2b8075f1-e0b3-425e-93e0-0b9a2bf1affd",
   "metadata": {},
   "outputs": [
    {
     "data": {
      "text/plain": [
       "array([   2, 1000,    5,   65,   56,    8,   85])"
      ]
     },
     "execution_count": 48,
     "metadata": {},
     "output_type": "execute_result"
    }
   ],
   "source": [
    "arr"
   ]
  },
  {
   "cell_type": "code",
   "execution_count": 49,
   "id": "08feef84-ea53-4618-98e4-c3f863ca644c",
   "metadata": {},
   "outputs": [
    {
     "data": {
      "text/plain": [
       "1"
      ]
     },
     "execution_count": 49,
     "metadata": {},
     "output_type": "execute_result"
    }
   ],
   "source": [
    "a"
   ]
  },
  {
   "cell_type": "code",
   "execution_count": 50,
   "id": "bb4c6f70-4b58-4c8b-a27c-5009375ad684",
   "metadata": {},
   "outputs": [
    {
     "data": {
      "text/plain": [
       "array([   2, 1000,    5,   65,   56,    8,   85])"
      ]
     },
     "execution_count": 50,
     "metadata": {},
     "output_type": "execute_result"
    }
   ],
   "source": [
    "arr"
   ]
  },
  {
   "cell_type": "code",
   "execution_count": 51,
   "id": "351910b3-5e3c-4b45-9ad2-996e897c1fc1",
   "metadata": {},
   "outputs": [
    {
     "data": {
      "text/plain": [
       "array([   2, 1000,    5,   65,   56,    8,   85])"
      ]
     },
     "execution_count": 51,
     "metadata": {},
     "output_type": "execute_result"
    }
   ],
   "source": [
    "a=arr\n",
    "a"
   ]
  },
  {
   "cell_type": "code",
   "execution_count": 52,
   "id": "98a1ad42-39df-48dd-8bfb-e94284fc04e8",
   "metadata": {},
   "outputs": [
    {
     "data": {
      "text/plain": [
       "array([   2, 1000,    5,   65,   56,    8,   85])"
      ]
     },
     "execution_count": 52,
     "metadata": {},
     "output_type": "execute_result"
    }
   ],
   "source": [
    "a"
   ]
  },
  {
   "cell_type": "code",
   "execution_count": 53,
   "id": "cbe1305e-1579-4d18-a96d-284f40eb1b8f",
   "metadata": {},
   "outputs": [
    {
     "data": {
      "text/plain": [
       "array([   2, 1000,    5,   65,   56,    8,   85])"
      ]
     },
     "execution_count": 53,
     "metadata": {},
     "output_type": "execute_result"
    }
   ],
   "source": [
    "arr #  it is a shallow copy"
   ]
  },
  {
   "cell_type": "code",
   "execution_count": 54,
   "id": "2f338fd0-ce47-4e7f-96c0-8e900d13371c",
   "metadata": {},
   "outputs": [
    {
     "data": {
      "text/plain": [
       "array([   2, 1000,    5,   65,   56,    8,   85])"
      ]
     },
     "execution_count": 54,
     "metadata": {},
     "output_type": "execute_result"
    }
   ],
   "source": [
    "# deep copy concapt\n",
    "# syntax>> a=arr.copy\n",
    "arr"
   ]
  },
  {
   "cell_type": "code",
   "execution_count": 55,
   "id": "e5ae3dc4-f4f8-4729-b248-8bc16fb84bb0",
   "metadata": {},
   "outputs": [],
   "source": [
    "a=arr.copy"
   ]
  },
  {
   "cell_type": "code",
   "execution_count": 56,
   "id": "62c9ed0c-9757-42f5-b194-7bdedf667662",
   "metadata": {},
   "outputs": [
    {
     "data": {
      "text/plain": [
       "<function ndarray.copy>"
      ]
     },
     "execution_count": 56,
     "metadata": {},
     "output_type": "execute_result"
    }
   ],
   "source": [
    "a"
   ]
  },
  {
   "cell_type": "code",
   "execution_count": 57,
   "id": "33805c77-678b-48ef-a8af-3394225d4561",
   "metadata": {},
   "outputs": [
    {
     "data": {
      "text/plain": [
       "array([   2, 1000,    5,   65,   56,    8,   85])"
      ]
     },
     "execution_count": 57,
     "metadata": {},
     "output_type": "execute_result"
    }
   ],
   "source": [
    "arr"
   ]
  },
  {
   "cell_type": "code",
   "execution_count": 58,
   "id": "19d6ac27-19a1-4d4a-8180-ad812e587db5",
   "metadata": {},
   "outputs": [
    {
     "ename": "TypeError",
     "evalue": "'builtin_function_or_method' object is not subscriptable",
     "output_type": "error",
     "traceback": [
      "\u001b[0;31m---------------------------------------------------------------------------\u001b[0m",
      "\u001b[0;31mTypeError\u001b[0m                                 Traceback (most recent call last)",
      "Cell \u001b[0;32mIn[58], line 1\u001b[0m\n\u001b[0;32m----> 1\u001b[0m \u001b[43ma\u001b[49m\u001b[43m[\u001b[49m\u001b[38;5;241;43m0\u001b[39;49m\u001b[43m]\u001b[49m\n",
      "\u001b[0;31mTypeError\u001b[0m: 'builtin_function_or_method' object is not subscriptable"
     ]
    }
   ],
   "source": [
    "a[0]"
   ]
  },
  {
   "cell_type": "code",
   "execution_count": 59,
   "id": "dc213a6b-a30d-4577-bee5-7aed9b1f1b78",
   "metadata": {},
   "outputs": [],
   "source": [
    "arr=[2,5,5,65,56,8,85]\n",
    "a=arr.copy()"
   ]
  },
  {
   "cell_type": "code",
   "execution_count": 60,
   "id": "11cca15e-e333-4ebc-8713-e70b86c4b508",
   "metadata": {},
   "outputs": [
    {
     "data": {
      "text/plain": [
       "[2, 5, 5, 65, 56, 8, 85]"
      ]
     },
     "execution_count": 60,
     "metadata": {},
     "output_type": "execute_result"
    }
   ],
   "source": [
    "a"
   ]
  },
  {
   "cell_type": "code",
   "execution_count": 61,
   "id": "951fd6c9-afe8-4ca2-ad6d-b8771e338a0f",
   "metadata": {},
   "outputs": [
    {
     "data": {
      "text/plain": [
       "[2, 5, 5, 65, 56, 8, 85]"
      ]
     },
     "execution_count": 61,
     "metadata": {},
     "output_type": "execute_result"
    }
   ],
   "source": [
    "arr"
   ]
  },
  {
   "cell_type": "code",
   "execution_count": 63,
   "id": "859cb35d-f18d-47c9-8022-2199f8c37013",
   "metadata": {},
   "outputs": [],
   "source": [
    "a[0]=100"
   ]
  },
  {
   "cell_type": "code",
   "execution_count": 64,
   "id": "48a41fb6-a977-43f8-a1cc-b3030d4610b4",
   "metadata": {},
   "outputs": [
    {
     "data": {
      "text/plain": [
       "[100, 5, 5, 65, 56, 8, 85]"
      ]
     },
     "execution_count": 64,
     "metadata": {},
     "output_type": "execute_result"
    }
   ],
   "source": [
    "a"
   ]
  },
  {
   "cell_type": "code",
   "execution_count": 65,
   "id": "2005abef-77e2-4824-92f5-b6114a220d4e",
   "metadata": {},
   "outputs": [],
   "source": [
    "arr[0]=500"
   ]
  },
  {
   "cell_type": "code",
   "execution_count": 66,
   "id": "0962c3b0-b1bc-45b0-901b-29b14cc46842",
   "metadata": {},
   "outputs": [
    {
     "data": {
      "text/plain": [
       "[500, 5, 5, 65, 56, 8, 85]"
      ]
     },
     "execution_count": 66,
     "metadata": {},
     "output_type": "execute_result"
    }
   ],
   "source": [
    "arr"
   ]
  },
  {
   "cell_type": "code",
   "execution_count": 67,
   "id": "e490bd01-86b4-4b34-b8f9-931e1d0ad24e",
   "metadata": {},
   "outputs": [],
   "source": [
    "# they are independence of each others "
   ]
  },
  {
   "cell_type": "code",
   "execution_count": 74,
   "id": "b3d9cc4d-e3b9-4cbc-bb09-da97ce1578f9",
   "metadata": {},
   "outputs": [
    {
     "data": {
      "text/plain": [
       "array([[ True, False, False],\n",
       "       [False,  True, False],\n",
       "       [False, False,  True]])"
      ]
     },
     "execution_count": 74,
     "metadata": {},
     "output_type": "execute_result"
    }
   ],
   "source": [
    "# now we create array using lamda function\n",
    "#\n",
    "arr1=np.eye(3)\n",
    "arr1=np.fromfunction(lambda i,j:i==j,(3,3))\n",
    "arr1"
   ]
  },
  {
   "cell_type": "code",
   "execution_count": 76,
   "id": "6f635e78-e07f-4909-acab-24a72b8c7b3c",
   "metadata": {},
   "outputs": [
    {
     "data": {
      "text/plain": [
       "2"
      ]
     },
     "execution_count": 76,
     "metadata": {},
     "output_type": "execute_result"
    }
   ],
   "source": [
    "arr1.ndim"
   ]
  },
  {
   "cell_type": "code",
   "execution_count": 77,
   "id": "dbb3f7a0-4e85-4eb5-8a25-cfce7a610546",
   "metadata": {},
   "outputs": [
    {
     "data": {
      "text/plain": [
       "(3, 3)"
      ]
     },
     "execution_count": 77,
     "metadata": {},
     "output_type": "execute_result"
    }
   ],
   "source": [
    "arr1.shape"
   ]
  },
  {
   "cell_type": "code",
   "execution_count": 79,
   "id": "bdbfc436-b3e4-4ef6-9514-411f5d6eb471",
   "metadata": {},
   "outputs": [
    {
     "data": {
      "text/plain": [
       "9"
      ]
     },
     "execution_count": 79,
     "metadata": {},
     "output_type": "execute_result"
    }
   ],
   "source": [
    "arr1.size"
   ]
  },
  {
   "cell_type": "code",
   "execution_count": 80,
   "id": "cef5394e-5630-4688-a610-093bcf17b326",
   "metadata": {},
   "outputs": [],
   "source": [
    "arr2=np.fromfunction(lambda i,j : i*j,(3,3))"
   ]
  },
  {
   "cell_type": "code",
   "execution_count": 81,
   "id": "a6f80756-16b3-4eff-b3da-1977d24f20d2",
   "metadata": {},
   "outputs": [
    {
     "data": {
      "text/plain": [
       "array([[0., 0., 0.],\n",
       "       [0., 1., 2.],\n",
       "       [0., 2., 4.]])"
      ]
     },
     "execution_count": 81,
     "metadata": {},
     "output_type": "execute_result"
    }
   ],
   "source": [
    "arr2"
   ]
  },
  {
   "cell_type": "code",
   "execution_count": 82,
   "id": "4b6f66f9-3da7-4184-93ee-aeef46b82ca6",
   "metadata": {},
   "outputs": [],
   "source": [
    "arr2=np.fromfunction(lambda i,j : i+j,(3,3))"
   ]
  },
  {
   "cell_type": "code",
   "execution_count": 83,
   "id": "5c31510a-8f28-4976-8ee2-6b97e1ed0336",
   "metadata": {},
   "outputs": [
    {
     "data": {
      "text/plain": [
       "array([[0., 1., 2.],\n",
       "       [1., 2., 3.],\n",
       "       [2., 3., 4.]])"
      ]
     },
     "execution_count": 83,
     "metadata": {},
     "output_type": "execute_result"
    }
   ],
   "source": [
    "arr2"
   ]
  },
  {
   "cell_type": "code",
   "execution_count": 85,
   "id": "019d6500-4569-4284-8b21-6716a4de25df",
   "metadata": {},
   "outputs": [],
   "source": [
    "arr2=np.fromfunction(lambda i,j : i-j,(3,3))"
   ]
  },
  {
   "cell_type": "code",
   "execution_count": 86,
   "id": "bdb26624-32b4-4a8f-8a14-8b789038e4c9",
   "metadata": {},
   "outputs": [
    {
     "data": {
      "text/plain": [
       "array([[ 0., -1., -2.],\n",
       "       [ 1.,  0., -1.],\n",
       "       [ 2.,  1.,  0.]])"
      ]
     },
     "execution_count": 86,
     "metadata": {},
     "output_type": "execute_result"
    }
   ],
   "source": [
    "arr2"
   ]
  },
  {
   "cell_type": "code",
   "execution_count": 101,
   "id": "8b4313b2-9d35-4d78-bfa2-6d180456becf",
   "metadata": {},
   "outputs": [
    {
     "data": {
      "text/plain": [
       "[0, 1, 2, 3, 4]"
      ]
     },
     "execution_count": 101,
     "metadata": {},
     "output_type": "execute_result"
    }
   ],
   "source": [
    "# array range is in your hand \n",
    "[i for i in range (5)]\n",
    "    #print(i)"
   ]
  },
  {
   "cell_type": "code",
   "execution_count": 105,
   "id": "8bc486c2-611b-4902-8adc-95dc4e81c50e",
   "metadata": {},
   "outputs": [
    {
     "data": {
      "text/plain": [
       "[0, 1, 2, 3, 4]"
      ]
     },
     "execution_count": 105,
     "metadata": {},
     "output_type": "execute_result"
    }
   ],
   "source": [
    "a=list( i for i in range (5))\n",
    "a"
   ]
  },
  {
   "cell_type": "code",
   "execution_count": 121,
   "id": "2e0b9361-52cd-40ff-bbf7-e8c344526702",
   "metadata": {},
   "outputs": [],
   "source": [
    "#np.fromiter(int(5))"
   ]
  },
  {
   "cell_type": "code",
   "execution_count": 122,
   "id": "7a322001-4f16-4d07-9d27-5d1e58588677",
   "metadata": {},
   "outputs": [
    {
     "data": {
      "text/plain": [
       "array([ 33.,  44.,  55.,  66.,  34., 765.,  87.,  56.])"
      ]
     },
     "execution_count": 122,
     "metadata": {},
     "output_type": "execute_result"
    }
   ],
   "source": [
    "np.fromstring('33 44 55 66 34 765 87 56', sep =\" \")"
   ]
  },
  {
   "cell_type": "code",
   "execution_count": 127,
   "id": "62c721c3-74fe-494a-8b54-441bea4161f3",
   "metadata": {},
   "outputs": [
    {
     "data": {
      "text/plain": [
       "array(['ajay', 'bijay', 'sanjay'], dtype='<U6')"
      ]
     },
     "execution_count": 127,
     "metadata": {},
     "output_type": "execute_result"
    }
   ],
   "source": [
    "# using with split in array\n",
    "string1 = \"ajay bijay sanjay\"\n",
    "string2 = string1.split(\" \")\n",
    "np.array(string2)"
   ]
  },
  {
   "cell_type": "code",
   "execution_count": 130,
   "id": "fdfa8e2f-5c64-494c-b2a9-c75500b4099e",
   "metadata": {},
   "outputs": [
    {
     "data": {
      "text/plain": [
       "[0, 1, 2, 3, 4, 5, 6, 7, 8, 9, 10, 11, 12, 13, 14]"
      ]
     },
     "execution_count": 130,
     "metadata": {},
     "output_type": "execute_result"
    }
   ],
   "source": [
    "a=list(range(15))\n",
    "a"
   ]
  },
  {
   "cell_type": "code",
   "execution_count": 132,
   "id": "1204f0e7-b474-4885-a097-a593c523f1d1",
   "metadata": {},
   "outputs": [],
   "source": [
    "arr=np.asarray(a)"
   ]
  },
  {
   "cell_type": "code",
   "execution_count": 133,
   "id": "bdd870b3-faba-4e3e-8ae1-bc2b0f27d813",
   "metadata": {},
   "outputs": [
    {
     "data": {
      "text/plain": [
       "array([ 0,  1,  2,  3,  4,  5,  6,  7,  8,  9, 10, 11, 12, 13, 14])"
      ]
     },
     "execution_count": 133,
     "metadata": {},
     "output_type": "execute_result"
    }
   ],
   "source": [
    "arr"
   ]
  },
  {
   "cell_type": "code",
   "execution_count": 135,
   "id": "9ca4339d-0b4e-495e-88c2-ce959a061a9e",
   "metadata": {},
   "outputs": [
    {
     "data": {
      "text/plain": [
       "1"
      ]
     },
     "execution_count": 135,
     "metadata": {},
     "output_type": "execute_result"
    }
   ],
   "source": [
    "arr.ndim"
   ]
  },
  {
   "cell_type": "code",
   "execution_count": 138,
   "id": "fc9a9fc2-bcde-4d24-9c66-19c6b0d40bcc",
   "metadata": {},
   "outputs": [
    {
     "data": {
      "text/plain": [
       "(15,)"
      ]
     },
     "execution_count": 138,
     "metadata": {},
     "output_type": "execute_result"
    }
   ],
   "source": [
    "arr.shape"
   ]
  },
  {
   "cell_type": "code",
   "execution_count": 139,
   "id": "be4e4a9d-4ef7-4baa-99dc-bfb89f80e652",
   "metadata": {},
   "outputs": [
    {
     "data": {
      "text/plain": [
       "15"
      ]
     },
     "execution_count": 139,
     "metadata": {},
     "output_type": "execute_result"
    }
   ],
   "source": [
    "arr.size"
   ]
  },
  {
   "cell_type": "code",
   "execution_count": 141,
   "id": "0090ebb1-df7a-42f3-a1c2-8843f20fdecc",
   "metadata": {},
   "outputs": [
    {
     "data": {
      "text/plain": [
       "[0, 2, 4, 6, 8]"
      ]
     },
     "execution_count": 141,
     "metadata": {},
     "output_type": "execute_result"
    }
   ],
   "source": [
    "b=list(range (0,10,2))\n",
    "b"
   ]
  },
  {
   "cell_type": "code",
   "execution_count": 146,
   "id": "e009d2f3-d74d-4cf1-8ece-96ed98e72dd1",
   "metadata": {},
   "outputs": [
    {
     "data": {
      "text/plain": [
       "array([1. , 1.5, 2. , 2.5, 3. , 3.5, 4. , 4.5, 5. , 5.5, 6. , 6.5, 7. ,\n",
       "       7.5, 8. , 8.5, 9. , 9.5])"
      ]
     },
     "execution_count": 146,
     "metadata": {},
     "output_type": "execute_result"
    }
   ],
   "source": [
    "np.arange(1,10,0.5)"
   ]
  },
  {
   "cell_type": "code",
   "execution_count": 151,
   "id": "794acd95-9b0a-4b92-a4d3-933b158a196f",
   "metadata": {},
   "outputs": [
    {
     "data": {
      "text/plain": [
       "array([ 2.        ,  2.72158   ,  3.70349885,  5.0396842 ,  6.85795186,\n",
       "        9.33223232, 12.69920842, 17.28095582, 23.51575188, 32.        ])"
      ]
     },
     "execution_count": 151,
     "metadata": {},
     "output_type": "execute_result"
    }
   ],
   "source": [
    "np.logspace(1,5,10, base=2)"
   ]
  },
  {
   "cell_type": "code",
   "execution_count": 4,
   "id": "fb59a4eb-1718-46c9-b735-d2b49b4ab935",
   "metadata": {},
   "outputs": [
    {
     "data": {
      "text/plain": [
       "array([[0., 0., 0., 0.],\n",
       "       [0., 0., 0., 0.],\n",
       "       [0., 0., 0., 0.]])"
      ]
     },
     "execution_count": 4,
     "metadata": {},
     "output_type": "execute_result"
    }
   ],
   "source": [
    "#\n",
    "# numpy advance 1 start\n",
    "import numpy as np\n",
    "np.zeros((3,4))"
   ]
  },
  {
   "cell_type": "code",
   "execution_count": 14,
   "id": "4af9f28c-bfd1-43d3-ae53-3b75516d122b",
   "metadata": {},
   "outputs": [
    {
     "data": {
      "text/plain": [
       "2"
      ]
     },
     "execution_count": 14,
     "metadata": {},
     "output_type": "execute_result"
    }
   ],
   "source": [
    "np.zeros((3,4)).ndim"
   ]
  },
  {
   "cell_type": "code",
   "execution_count": 19,
   "id": "1a48ab89-4d58-4c03-886a-45abc7f688b6",
   "metadata": {},
   "outputs": [
    {
     "data": {
      "text/plain": [
       "array([[[1., 1., 1., 1.],\n",
       "        [1., 1., 1., 1.],\n",
       "        [1., 1., 1., 1.]],\n",
       "\n",
       "       [[1., 1., 1., 1.],\n",
       "        [1., 1., 1., 1.],\n",
       "        [1., 1., 1., 1.]]])"
      ]
     },
     "execution_count": 19,
     "metadata": {},
     "output_type": "execute_result"
    }
   ],
   "source": [
    "np.ones((2,3,4))"
   ]
  },
  {
   "cell_type": "code",
   "execution_count": 21,
   "id": "3f1d5afd-cc64-4036-99bd-7619c395fa90",
   "metadata": {},
   "outputs": [
    {
     "data": {
      "text/plain": [
       "3"
      ]
     },
     "execution_count": 21,
     "metadata": {},
     "output_type": "execute_result"
    }
   ],
   "source": [
    "np.ones((2,3,4)).ndim"
   ]
  },
  {
   "cell_type": "code",
   "execution_count": 23,
   "id": "435450c1-b129-46ae-90c5-c7d7c1df7e8a",
   "metadata": {},
   "outputs": [
    {
     "data": {
      "text/plain": [
       "array([[[[1., 1., 1., 1.],\n",
       "         [1., 1., 1., 1.],\n",
       "         [1., 1., 1., 1.]]],\n",
       "\n",
       "\n",
       "       [[[1., 1., 1., 1.],\n",
       "         [1., 1., 1., 1.],\n",
       "         [1., 1., 1., 1.]]]])"
      ]
     },
     "execution_count": 23,
     "metadata": {},
     "output_type": "execute_result"
    }
   ],
   "source": [
    "np.ones((2,1,3,4))"
   ]
  },
  {
   "cell_type": "code",
   "execution_count": 25,
   "id": "71350f24-5c3b-4e38-97f9-341bd1dc0d8a",
   "metadata": {},
   "outputs": [
    {
     "data": {
      "text/plain": [
       "4"
      ]
     },
     "execution_count": 25,
     "metadata": {},
     "output_type": "execute_result"
    }
   ],
   "source": [
    "np.ones((2,2,3,4)).ndim"
   ]
  },
  {
   "cell_type": "code",
   "execution_count": 6,
   "id": "e0ddc8fd-9319-40d7-b512-2f220b1bb92a",
   "metadata": {},
   "outputs": [],
   "source": [
    "arr=np.ones((3,4))"
   ]
  },
  {
   "cell_type": "code",
   "execution_count": 38,
   "id": "6317826e-3022-4572-9fd5-ddcc45b2c092",
   "metadata": {},
   "outputs": [
    {
     "data": {
      "text/plain": [
       "5"
      ]
     },
     "execution_count": 38,
     "metadata": {},
     "output_type": "execute_result"
    }
   ],
   "source": [
    "import numpy as np\n",
    "a"
   ]
  },
  {
   "cell_type": "code",
   "execution_count": 41,
   "id": "b04f42f8-4f50-47ad-9581-d95bbe177f80",
   "metadata": {},
   "outputs": [
    {
     "data": {
      "text/plain": [
       "array([[1., 1., 1., 1.],\n",
       "       [1., 1., 1., 1.],\n",
       "       [1., 1., 1., 1.]])"
      ]
     },
     "execution_count": 41,
     "metadata": {},
     "output_type": "execute_result"
    }
   ],
   "source": [
    "arr"
   ]
  },
  {
   "cell_type": "code",
   "execution_count": 42,
   "id": "f789f607-edb5-4597-8644-38dae7ac08ba",
   "metadata": {},
   "outputs": [
    {
     "data": {
      "text/plain": [
       "array([[6., 6., 6., 6.],\n",
       "       [6., 6., 6., 6.],\n",
       "       [6., 6., 6., 6.]])"
      ]
     },
     "execution_count": 42,
     "metadata": {},
     "output_type": "execute_result"
    }
   ],
   "source": [
    "arr+5"
   ]
  },
  {
   "cell_type": "code",
   "execution_count": 7,
   "id": "29487ae9-6bbe-4387-a666-94eda621276c",
   "metadata": {},
   "outputs": [
    {
     "data": {
      "text/plain": [
       "array([[-4., -4., -4., -4.],\n",
       "       [-4., -4., -4., -4.],\n",
       "       [-4., -4., -4., -4.]])"
      ]
     },
     "execution_count": 7,
     "metadata": {},
     "output_type": "execute_result"
    }
   ],
   "source": [
    "\n",
    "arr-5"
   ]
  },
  {
   "cell_type": "raw",
   "id": "82b811ed-1435-4c81-8bd5-a2e817669f3a",
   "metadata": {},
   "source": [
    "arr * 5"
   ]
  },
  {
   "cell_type": "raw",
   "id": "a0746fdf-f544-4bf1-81ac-f47acb7dd596",
   "metadata": {},
   "source": [
    "arr*4"
   ]
  },
  {
   "cell_type": "code",
   "execution_count": null,
   "id": "0cbfc507-8a7c-43be-93e1-07709ebd3354",
   "metadata": {},
   "outputs": [],
   "source": []
  },
  {
   "cell_type": "code",
   "execution_count": 1,
   "id": "75b35fcb-0dd8-4c95-8543-40b9982459fa",
   "metadata": {},
   "outputs": [
    {
     "ename": "NameError",
     "evalue": "name 'arr' is not defined",
     "output_type": "error",
     "traceback": [
      "\u001b[0;31m---------------------------------------------------------------------------\u001b[0m",
      "\u001b[0;31mNameError\u001b[0m                                 Traceback (most recent call last)",
      "Cell \u001b[0;32mIn[1], line 1\u001b[0m\n\u001b[0;32m----> 1\u001b[0m \u001b[43marr\u001b[49m\u001b[38;5;241m*\u001b[39m\u001b[38;5;241m4\u001b[39m\n",
      "\u001b[0;31mNameError\u001b[0m: name 'arr' is not defined"
     ]
    }
   ],
   "source": [
    "arr*4"
   ]
  },
  {
   "cell_type": "code",
   "execution_count": 22,
   "id": "0890735f-191d-4bef-9519-302bd530e8fc",
   "metadata": {},
   "outputs": [],
   "source": [
    "import numpy as np\n",
    "a=np.eye(15,dtype=int)"
   ]
  },
  {
   "cell_type": "code",
   "execution_count": 23,
   "id": "0f86a235-40db-4a46-8401-0545f7f9d830",
   "metadata": {},
   "outputs": [
    {
     "data": {
      "text/plain": [
       "array([[1, 0, 0, 0, 0, 0, 0, 0, 0, 0, 0, 0, 0, 0, 0],\n",
       "       [0, 1, 0, 0, 0, 0, 0, 0, 0, 0, 0, 0, 0, 0, 0],\n",
       "       [0, 0, 1, 0, 0, 0, 0, 0, 0, 0, 0, 0, 0, 0, 0],\n",
       "       [0, 0, 0, 1, 0, 0, 0, 0, 0, 0, 0, 0, 0, 0, 0],\n",
       "       [0, 0, 0, 0, 1, 0, 0, 0, 0, 0, 0, 0, 0, 0, 0],\n",
       "       [0, 0, 0, 0, 0, 1, 0, 0, 0, 0, 0, 0, 0, 0, 0],\n",
       "       [0, 0, 0, 0, 0, 0, 1, 0, 0, 0, 0, 0, 0, 0, 0],\n",
       "       [0, 0, 0, 0, 0, 0, 0, 1, 0, 0, 0, 0, 0, 0, 0],\n",
       "       [0, 0, 0, 0, 0, 0, 0, 0, 1, 0, 0, 0, 0, 0, 0],\n",
       "       [0, 0, 0, 0, 0, 0, 0, 0, 0, 1, 0, 0, 0, 0, 0],\n",
       "       [0, 0, 0, 0, 0, 0, 0, 0, 0, 0, 1, 0, 0, 0, 0],\n",
       "       [0, 0, 0, 0, 0, 0, 0, 0, 0, 0, 0, 1, 0, 0, 0],\n",
       "       [0, 0, 0, 0, 0, 0, 0, 0, 0, 0, 0, 0, 1, 0, 0],\n",
       "       [0, 0, 0, 0, 0, 0, 0, 0, 0, 0, 0, 0, 0, 1, 0],\n",
       "       [0, 0, 0, 0, 0, 0, 0, 0, 0, 0, 0, 0, 0, 0, 1]])"
      ]
     },
     "execution_count": 23,
     "metadata": {},
     "output_type": "execute_result"
    }
   ],
   "source": [
    "a"
   ]
  },
  {
   "cell_type": "code",
   "execution_count": 24,
   "id": "95b71425-25ef-4440-83ad-51a81b972aaa",
   "metadata": {},
   "outputs": [
    {
     "data": {
      "text/plain": [
       "array([[6, 5, 5, 5, 5, 5, 5, 5, 5, 5, 5, 5, 5, 5, 5],\n",
       "       [5, 6, 5, 5, 5, 5, 5, 5, 5, 5, 5, 5, 5, 5, 5],\n",
       "       [5, 5, 6, 5, 5, 5, 5, 5, 5, 5, 5, 5, 5, 5, 5],\n",
       "       [5, 5, 5, 6, 5, 5, 5, 5, 5, 5, 5, 5, 5, 5, 5],\n",
       "       [5, 5, 5, 5, 6, 5, 5, 5, 5, 5, 5, 5, 5, 5, 5],\n",
       "       [5, 5, 5, 5, 5, 6, 5, 5, 5, 5, 5, 5, 5, 5, 5],\n",
       "       [5, 5, 5, 5, 5, 5, 6, 5, 5, 5, 5, 5, 5, 5, 5],\n",
       "       [5, 5, 5, 5, 5, 5, 5, 6, 5, 5, 5, 5, 5, 5, 5],\n",
       "       [5, 5, 5, 5, 5, 5, 5, 5, 6, 5, 5, 5, 5, 5, 5],\n",
       "       [5, 5, 5, 5, 5, 5, 5, 5, 5, 6, 5, 5, 5, 5, 5],\n",
       "       [5, 5, 5, 5, 5, 5, 5, 5, 5, 5, 6, 5, 5, 5, 5],\n",
       "       [5, 5, 5, 5, 5, 5, 5, 5, 5, 5, 5, 6, 5, 5, 5],\n",
       "       [5, 5, 5, 5, 5, 5, 5, 5, 5, 5, 5, 5, 6, 5, 5],\n",
       "       [5, 5, 5, 5, 5, 5, 5, 5, 5, 5, 5, 5, 5, 6, 5],\n",
       "       [5, 5, 5, 5, 5, 5, 5, 5, 5, 5, 5, 5, 5, 5, 6]])"
      ]
     },
     "execution_count": 24,
     "metadata": {},
     "output_type": "execute_result"
    }
   ],
   "source": [
    "a+5"
   ]
  },
  {
   "cell_type": "code",
   "execution_count": 30,
   "id": "a305d540-5a33-4574-8789-c9bde86364f5",
   "metadata": {},
   "outputs": [
    {
     "data": {
      "text/plain": [
       "array([[4.64623154e-310, 1.08221785e-312, 6.03387601e+174],\n",
       "       [1.78604261e-051, 1.48609198e-076, 5.19177917e+170],\n",
       "       [3.54313523e-061, 6.75827251e-067, 5.49864474e+170]])"
      ]
     },
     "execution_count": 30,
     "metadata": {},
     "output_type": "execute_result"
    }
   ],
   "source": [
    "np.empty((3,3))"
   ]
  },
  {
   "cell_type": "code",
   "execution_count": 31,
   "id": "f3521f25-231f-4c59-ae14-979e52d74e62",
   "metadata": {},
   "outputs": [],
   "source": [
    "# random module"
   ]
  },
  {
   "cell_type": "code",
   "execution_count": 35,
   "id": "864229f5-04d4-437c-9699-1f18d7c1803c",
   "metadata": {},
   "outputs": [
    {
     "data": {
      "text/plain": [
       "1"
      ]
     },
     "execution_count": 35,
     "metadata": {},
     "output_type": "execute_result"
    }
   ],
   "source": [
    "import random\n",
    "random.choice((1,2,3,4,5,6))"
   ]
  },
  {
   "cell_type": "code",
   "execution_count": 58,
   "id": "b0d5d6b4-836f-4511-a6fc-13ea88976085",
   "metadata": {},
   "outputs": [
    {
     "data": {
      "text/plain": [
       "'karan'"
      ]
     },
     "execution_count": 58,
     "metadata": {},
     "output_type": "execute_result"
    }
   ],
   "source": [
    "random.choice((\"ajay\",\"anas\",\"karan\"))"
   ]
  },
  {
   "cell_type": "raw",
   "id": "a4a9103c-c01d-450e-8449-d3f753273c8f",
   "metadata": {},
   "source": [
    "# for randomly choice a number in a range"
   ]
  },
  {
   "cell_type": "code",
   "execution_count": 73,
   "id": "17762cba-43dc-4568-a158-035de8384656",
   "metadata": {},
   "outputs": [
    {
     "data": {
      "text/plain": [
       "4"
      ]
     },
     "execution_count": 73,
     "metadata": {},
     "output_type": "execute_result"
    }
   ],
   "source": [
    "random.randrange(1,6)"
   ]
  },
  {
   "cell_type": "code",
   "execution_count": 76,
   "id": "3cda358b-37af-4a25-97b7-2a706c9d2842",
   "metadata": {},
   "outputs": [
    {
     "data": {
      "text/plain": [
       "0.9391274039545102"
      ]
     },
     "execution_count": 76,
     "metadata": {},
     "output_type": "execute_result"
    }
   ],
   "source": [
    "# it gives a number between 0 and 1 automatically \n",
    "# included by zero and excluded by 1\n",
    "random.random()"
   ]
  },
  {
   "cell_type": "code",
   "execution_count": 93,
   "id": "f207ecd4-eac7-413a-a8b8-9e6e6f46fb40",
   "metadata": {},
   "outputs": [],
   "source": []
  },
  {
   "cell_type": "code",
   "execution_count": 98,
   "id": "9792909c-3496-4541-afe8-9c28d45a682b",
   "metadata": {},
   "outputs": [
    {
     "data": {
      "text/plain": [
       "array([3, 2, 6, 1, 9, 8, 5, 4])"
      ]
     },
     "execution_count": 98,
     "metadata": {},
     "output_type": "execute_result"
    }
   ],
   "source": [
    "# shuffle >> mixture of elements\n",
    "my_lis=[1,2,3,4,5,6,8,9]\n",
    "random.shuffle(my_lis)\n",
    "np.array(my_lis)"
   ]
  },
  {
   "cell_type": "code",
   "execution_count": 101,
   "id": "cc5a9811-1fa6-4ef3-9178-8b217d806702",
   "metadata": {},
   "outputs": [
    {
     "data": {
      "text/plain": [
       "7.0"
      ]
     },
     "execution_count": 101,
     "metadata": {},
     "output_type": "execute_result"
    }
   ],
   "source": [
    "random.uniform(7,7)"
   ]
  },
  {
   "cell_type": "code",
   "execution_count": 102,
   "id": "12936fd4-e4c0-4114-b432-4022c3df270a",
   "metadata": {},
   "outputs": [
    {
     "data": {
      "text/plain": [
       "7.150301664322934"
      ]
     },
     "execution_count": 102,
     "metadata": {},
     "output_type": "execute_result"
    }
   ],
   "source": [
    "random.uniform(7,8)"
   ]
  },
  {
   "cell_type": "code",
   "execution_count": 106,
   "id": "868b0d79-8b4d-43cb-adee-252c60faba97",
   "metadata": {},
   "outputs": [
    {
     "data": {
      "text/plain": [
       "array([0.18523544])"
      ]
     },
     "execution_count": 106,
     "metadata": {},
     "output_type": "execute_result"
    }
   ],
   "source": [
    "# random number related concept in numpy\n",
    "np.random.rand(1)"
   ]
  },
  {
   "cell_type": "code",
   "execution_count": 108,
   "id": "2c3392b4-9b8b-499d-8fc4-09a30d7d6643",
   "metadata": {},
   "outputs": [
    {
     "data": {
      "text/plain": [
       "array([[0.65494733, 0.37344348, 0.92909707, 0.69115556],\n",
       "       [0.93417037, 0.2230452 , 0.80983763, 0.54255773],\n",
       "       [0.56584214, 0.26999779, 0.5036089 , 0.13088452]])"
      ]
     },
     "execution_count": 108,
     "metadata": {},
     "output_type": "execute_result"
    }
   ],
   "source": [
    "np.random.rand(3,4)"
   ]
  },
  {
   "cell_type": "code",
   "execution_count": 116,
   "id": "580fd2ee-74ad-4706-a9b4-2666fabdc4e1",
   "metadata": {},
   "outputs": [],
   "source": [
    "arr=np.random.randint(1,4,size=(3,4))"
   ]
  },
  {
   "cell_type": "code",
   "execution_count": 134,
   "id": "5694f5c5-d00f-4ccf-8ab0-d7431cc541cd",
   "metadata": {},
   "outputs": [
    {
     "data": {
      "text/plain": [
       "array([[1, 3, 1, 3],\n",
       "       [3, 2, 3, 3],\n",
       "       [2, 2, 3, 3]])"
      ]
     },
     "execution_count": 134,
     "metadata": {},
     "output_type": "execute_result"
    }
   ],
   "source": [
    "arr"
   ]
  },
  {
   "cell_type": "code",
   "execution_count": 118,
   "id": "ab9c8738-5584-4ff0-a2fd-8ca31517e0b3",
   "metadata": {},
   "outputs": [
    {
     "data": {
      "text/plain": [
       "(3, 4)"
      ]
     },
     "execution_count": 118,
     "metadata": {},
     "output_type": "execute_result"
    }
   ],
   "source": [
    "arr.shape"
   ]
  },
  {
   "cell_type": "code",
   "execution_count": 119,
   "id": "024d06be-eee1-4362-8ae2-cb1fb904d109",
   "metadata": {},
   "outputs": [
    {
     "data": {
      "text/plain": [
       "12"
      ]
     },
     "execution_count": 119,
     "metadata": {},
     "output_type": "execute_result"
    }
   ],
   "source": [
    "arr.size"
   ]
  },
  {
   "cell_type": "code",
   "execution_count": 120,
   "id": "e9c1595e-11d2-4ed7-9f26-9490d84bcc34",
   "metadata": {},
   "outputs": [
    {
     "data": {
      "text/plain": [
       "2"
      ]
     },
     "execution_count": 120,
     "metadata": {},
     "output_type": "execute_result"
    }
   ],
   "source": [
    "arr.ndim"
   ]
  },
  {
   "cell_type": "code",
   "execution_count": 121,
   "id": "51009f0d-693f-4709-afed-e3ce07aaaa6a",
   "metadata": {},
   "outputs": [
    {
     "data": {
      "text/plain": [
       "array([[1, 3, 1, 3, 3, 2],\n",
       "       [3, 3, 2, 2, 3, 3]])"
      ]
     },
     "execution_count": 121,
     "metadata": {},
     "output_type": "execute_result"
    }
   ],
   "source": [
    "# reshaping the array or changing the shape or an array\n",
    "arr.reshape(2,6)"
   ]
  },
  {
   "cell_type": "code",
   "execution_count": 122,
   "id": "911fc08b-d95e-498d-9509-c474a718b10f",
   "metadata": {},
   "outputs": [
    {
     "data": {
      "text/plain": [
       "array([[1, 3, 1, 3, 3, 2, 3, 3, 2, 2, 3, 3]])"
      ]
     },
     "execution_count": 122,
     "metadata": {},
     "output_type": "execute_result"
    }
   ],
   "source": [
    "arr.reshape(1,12)"
   ]
  },
  {
   "cell_type": "code",
   "execution_count": 123,
   "id": "cfe02459-a008-49d7-9203-e27d89518878",
   "metadata": {},
   "outputs": [
    {
     "data": {
      "text/plain": [
       "array([1, 3, 1, 3, 3, 2, 3, 3, 2, 2, 3, 3])"
      ]
     },
     "execution_count": 123,
     "metadata": {},
     "output_type": "execute_result"
    }
   ],
   "source": [
    "arr.reshape(12)"
   ]
  },
  {
   "cell_type": "code",
   "execution_count": 124,
   "id": "4daea24e-5f4a-4bc9-810d-7a6e5585175a",
   "metadata": {},
   "outputs": [
    {
     "data": {
      "text/plain": [
       "array([[1],\n",
       "       [3],\n",
       "       [1],\n",
       "       [3],\n",
       "       [3],\n",
       "       [2],\n",
       "       [3],\n",
       "       [3],\n",
       "       [2],\n",
       "       [2],\n",
       "       [3],\n",
       "       [3]])"
      ]
     },
     "execution_count": 124,
     "metadata": {},
     "output_type": "execute_result"
    }
   ],
   "source": [
    "arr.reshape(12,1)"
   ]
  },
  {
   "cell_type": "code",
   "execution_count": 125,
   "id": "7f310b8f-a05b-4ce4-bbc5-db6ca6bb4b74",
   "metadata": {},
   "outputs": [
    {
     "data": {
      "text/plain": [
       "array([[1, 3, 1, 3, 3, 2],\n",
       "       [3, 3, 2, 2, 3, 3]])"
      ]
     },
     "execution_count": 125,
     "metadata": {},
     "output_type": "execute_result"
    }
   ],
   "source": [
    "arr.reshape(2,6)"
   ]
  },
  {
   "cell_type": "code",
   "execution_count": 126,
   "id": "25b3a1e2-f2f3-42f8-b2b1-001d2ad61efa",
   "metadata": {},
   "outputs": [
    {
     "data": {
      "text/plain": [
       "array([[1, 3],\n",
       "       [1, 3],\n",
       "       [3, 2],\n",
       "       [3, 3],\n",
       "       [2, 2],\n",
       "       [3, 3]])"
      ]
     },
     "execution_count": 126,
     "metadata": {},
     "output_type": "execute_result"
    }
   ],
   "source": [
    "arr.reshape(6,2)"
   ]
  },
  {
   "cell_type": "code",
   "execution_count": 127,
   "id": "9d2e3f5d-9aa5-4108-b225-6860984642b4",
   "metadata": {},
   "outputs": [
    {
     "data": {
      "text/plain": [
       "array([[1, 3, 1],\n",
       "       [3, 3, 2],\n",
       "       [3, 3, 2],\n",
       "       [2, 3, 3]])"
      ]
     },
     "execution_count": 127,
     "metadata": {},
     "output_type": "execute_result"
    }
   ],
   "source": [
    "arr.reshape(4,-1)"
   ]
  },
  {
   "cell_type": "code",
   "execution_count": 128,
   "id": "67bfeb17-44cc-49d7-bcb2-e9595d7b2542",
   "metadata": {},
   "outputs": [
    {
     "ename": "ValueError",
     "evalue": "cannot reshape array of size 12 into shape (5,1)",
     "output_type": "error",
     "traceback": [
      "\u001b[0;31m---------------------------------------------------------------------------\u001b[0m",
      "\u001b[0;31mValueError\u001b[0m                                Traceback (most recent call last)",
      "Cell \u001b[0;32mIn[128], line 1\u001b[0m\n\u001b[0;32m----> 1\u001b[0m \u001b[43marr\u001b[49m\u001b[38;5;241;43m.\u001b[39;49m\u001b[43mreshape\u001b[49m\u001b[43m(\u001b[49m\u001b[38;5;241;43m5\u001b[39;49m\u001b[43m,\u001b[49m\u001b[38;5;241;43m1\u001b[39;49m\u001b[43m)\u001b[49m\n",
      "\u001b[0;31mValueError\u001b[0m: cannot reshape array of size 12 into shape (5,1)"
     ]
    }
   ],
   "source": [
    "arr.reshape(5,1)"
   ]
  },
  {
   "cell_type": "code",
   "execution_count": 129,
   "id": "ad68b203-7e59-4520-a936-da7fa8d4a504",
   "metadata": {},
   "outputs": [
    {
     "data": {
      "text/plain": [
       "array([[1, 3],\n",
       "       [1, 3],\n",
       "       [3, 2],\n",
       "       [3, 3],\n",
       "       [2, 2],\n",
       "       [3, 3]])"
      ]
     },
     "execution_count": 129,
     "metadata": {},
     "output_type": "execute_result"
    }
   ],
   "source": [
    "arr.reshape(6,-1)"
   ]
  },
  {
   "cell_type": "code",
   "execution_count": 130,
   "id": "9e6c5496-6a60-4d1e-a7cb-efa2c4a7b0d5",
   "metadata": {},
   "outputs": [
    {
     "data": {
      "text/plain": [
       "array([[1, 3, 1, 3],\n",
       "       [3, 2, 3, 3],\n",
       "       [2, 2, 3, 3]])"
      ]
     },
     "execution_count": 130,
     "metadata": {},
     "output_type": "execute_result"
    }
   ],
   "source": [
    "arr.reshape(-1,4)"
   ]
  },
  {
   "cell_type": "code",
   "execution_count": 133,
   "id": "adc098ed-61cf-425f-a24c-e23c04d8ae9e",
   "metadata": {},
   "outputs": [
    {
     "data": {
      "text/plain": [
       "array([[1, 3, 1, 3],\n",
       "       [3, 2, 3, 3],\n",
       "       [2, 2, 3, 3]])"
      ]
     },
     "execution_count": 133,
     "metadata": {},
     "output_type": "execute_result"
    }
   ],
   "source": [
    "arr.reshape(3,-1).base"
   ]
  },
  {
   "cell_type": "code",
   "execution_count": 132,
   "id": "d8a2c80c-571f-4e21-9e1f-f8e8c0fc36ea",
   "metadata": {},
   "outputs": [
    {
     "data": {
      "text/plain": [
       "array([[1, 3, 1, 3],\n",
       "       [3, 2, 3, 3],\n",
       "       [2, 2, 3, 3]])"
      ]
     },
     "execution_count": 132,
     "metadata": {},
     "output_type": "execute_result"
    }
   ],
   "source": [
    "arr.reshape(3,4).base"
   ]
  },
  {
   "cell_type": "raw",
   "id": "985e3aca-77aa-47cc-89ed-ed1140a7939f",
   "metadata": {},
   "source": []
  },
  {
   "cell_type": "code",
   "execution_count": 137,
   "id": "c383072e-758e-472e-b052-dcb6bb4f7ba2",
   "metadata": {},
   "outputs": [
    {
     "data": {
      "text/plain": [
       "array([[[1, 3, 1],\n",
       "        [3, 3, 2]],\n",
       "\n",
       "       [[3, 3, 2],\n",
       "        [2, 3, 3]]])"
      ]
     },
     "execution_count": 137,
     "metadata": {},
     "output_type": "execute_result"
    }
   ],
   "source": [
    "arr.reshape(2,2,3)"
   ]
  },
  {
   "cell_type": "code",
   "execution_count": 140,
   "id": "241f9d40-4bbc-43c6-83a5-e73e0d8f9d4f",
   "metadata": {},
   "outputs": [
    {
     "data": {
      "text/plain": [
       "array([[[[1, 3, 1],\n",
       "         [3, 3, 2]],\n",
       "\n",
       "        [[3, 3, 2],\n",
       "         [2, 3, 3]]]])"
      ]
     },
     "execution_count": 140,
     "metadata": {},
     "output_type": "execute_result"
    }
   ],
   "source": [
    "arr.reshape(1,2,2,3)"
   ]
  },
  {
   "cell_type": "code",
   "execution_count": 141,
   "id": "895ae9f0-b18e-49a6-befe-bc55ad744eb0",
   "metadata": {},
   "outputs": [],
   "source": [
    "arr2=np.random.randint(1,5,(3,4))"
   ]
  },
  {
   "cell_type": "code",
   "execution_count": 142,
   "id": "599c7b55-1e95-45c1-b450-03b6b3956b47",
   "metadata": {},
   "outputs": [
    {
     "data": {
      "text/plain": [
       "array([[2, 2, 1, 2],\n",
       "       [3, 3, 3, 4],\n",
       "       [1, 3, 1, 2]])"
      ]
     },
     "execution_count": 142,
     "metadata": {},
     "output_type": "execute_result"
    }
   ],
   "source": [
    "arr2"
   ]
  },
  {
   "cell_type": "code",
   "execution_count": 143,
   "id": "f322c1b9-9982-493f-bb31-6a54248f3122",
   "metadata": {},
   "outputs": [
    {
     "data": {
      "text/plain": [
       "(3, 4)"
      ]
     },
     "execution_count": 143,
     "metadata": {},
     "output_type": "execute_result"
    }
   ],
   "source": [
    "arr2.shape"
   ]
  },
  {
   "cell_type": "code",
   "execution_count": 144,
   "id": "61841e60-9ef2-44c0-b8a0-3e2d72f1ac7f",
   "metadata": {},
   "outputs": [
    {
     "data": {
      "text/plain": [
       "12"
      ]
     },
     "execution_count": 144,
     "metadata": {},
     "output_type": "execute_result"
    }
   ],
   "source": [
    "arr2.size"
   ]
  },
  {
   "cell_type": "code",
   "execution_count": 145,
   "id": "c3c5e6ad-a745-41c5-9afa-81e9d795ec56",
   "metadata": {},
   "outputs": [
    {
     "data": {
      "text/plain": [
       "2"
      ]
     },
     "execution_count": 145,
     "metadata": {},
     "output_type": "execute_result"
    }
   ],
   "source": [
    "arr2.ndim"
   ]
  },
  {
   "cell_type": "code",
   "execution_count": 146,
   "id": "ce66ef40-a4eb-49f9-8927-aff3e3732309",
   "metadata": {},
   "outputs": [],
   "source": [
    "arr3=np.random.randint(1,5,(4,4))"
   ]
  },
  {
   "cell_type": "code",
   "execution_count": 147,
   "id": "dbbcc55e-1d80-4e1d-90db-482df63f86ac",
   "metadata": {},
   "outputs": [
    {
     "data": {
      "text/plain": [
       "array([[3, 2, 1, 2],\n",
       "       [3, 1, 2, 3],\n",
       "       [3, 2, 2, 1],\n",
       "       [2, 3, 4, 4]])"
      ]
     },
     "execution_count": 147,
     "metadata": {},
     "output_type": "execute_result"
    }
   ],
   "source": [
    "arr3"
   ]
  },
  {
   "cell_type": "code",
   "execution_count": 148,
   "id": "ecf3456c-eb1b-4333-a3ee-cbaf6eb23677",
   "metadata": {},
   "outputs": [
    {
     "data": {
      "text/plain": [
       "(4, 4)"
      ]
     },
     "execution_count": 148,
     "metadata": {},
     "output_type": "execute_result"
    }
   ],
   "source": [
    "arr3.shape"
   ]
  },
  {
   "cell_type": "code",
   "execution_count": 149,
   "id": "6503dfe7-1b19-4fc6-aab0-300ab097003a",
   "metadata": {},
   "outputs": [
    {
     "data": {
      "text/plain": [
       "2"
      ]
     },
     "execution_count": 149,
     "metadata": {},
     "output_type": "execute_result"
    }
   ],
   "source": [
    "arr3.ndim"
   ]
  },
  {
   "cell_type": "code",
   "execution_count": 150,
   "id": "85a660a3-f936-4a9e-8d80-6d1f5bb642cd",
   "metadata": {},
   "outputs": [
    {
     "data": {
      "text/plain": [
       "16"
      ]
     },
     "execution_count": 150,
     "metadata": {},
     "output_type": "execute_result"
    }
   ],
   "source": [
    "arr3.size"
   ]
  },
  {
   "cell_type": "code",
   "execution_count": 154,
   "id": "70a3ea61-8ef9-47f5-b955-1eb578dc9bb5",
   "metadata": {},
   "outputs": [
    {
     "data": {
      "text/plain": [
       "array([[False, False, False, False],\n",
       "       [False, False, False, False],\n",
       "       [False, False, False, False],\n",
       "       [False, False,  True,  True]])"
      ]
     },
     "execution_count": 154,
     "metadata": {},
     "output_type": "execute_result"
    }
   ],
   "source": [
    "arr3>3"
   ]
  },
  {
   "cell_type": "code",
   "execution_count": 153,
   "id": "09ee4391-fbdb-45d2-bf16-241838b11186",
   "metadata": {},
   "outputs": [
    {
     "data": {
      "text/plain": [
       "array([[ True, False, False, False],\n",
       "       [ True, False, False,  True],\n",
       "       [ True, False, False, False],\n",
       "       [False,  True,  True,  True]])"
      ]
     },
     "execution_count": 153,
     "metadata": {},
     "output_type": "execute_result"
    }
   ],
   "source": [
    "arr3>2"
   ]
  },
  {
   "cell_type": "code",
   "execution_count": 155,
   "id": "2ad12268-ceb3-4272-abc0-1f446f8e322d",
   "metadata": {},
   "outputs": [
    {
     "data": {
      "text/plain": [
       "array([[ True, False, False, False],\n",
       "       [ True, False, False,  True],\n",
       "       [ True, False, False, False],\n",
       "       [False,  True, False, False]])"
      ]
     },
     "execution_count": 155,
     "metadata": {},
     "output_type": "execute_result"
    }
   ],
   "source": [
    "arr3==3"
   ]
  },
  {
   "cell_type": "code",
   "execution_count": 156,
   "id": "b57a6c2a-d3a4-4a19-a9a9-d925d3593d70",
   "metadata": {},
   "outputs": [
    {
     "data": {
      "text/plain": [
       "array([[6, 5, 4, 5],\n",
       "       [6, 4, 5, 6],\n",
       "       [6, 5, 5, 4],\n",
       "       [5, 6, 7, 7]])"
      ]
     },
     "execution_count": 156,
     "metadata": {},
     "output_type": "execute_result"
    }
   ],
   "source": [
    "arr3+3"
   ]
  },
  {
   "cell_type": "code",
   "execution_count": 158,
   "id": "87824859-bcd5-44c6-b4cc-52fb59b4a559",
   "metadata": {},
   "outputs": [
    {
     "data": {
      "text/plain": [
       "array([4, 4])"
      ]
     },
     "execution_count": 158,
     "metadata": {},
     "output_type": "execute_result"
    }
   ],
   "source": [
    "arr3[arr3>3]"
   ]
  },
  {
   "cell_type": "code",
   "execution_count": 159,
   "id": "a3284177-6d3a-4d63-9c51-73ab685be422",
   "metadata": {},
   "outputs": [
    {
     "data": {
      "text/plain": [
       "array([[3, 2, 1, 2],\n",
       "       [3, 1, 2, 3],\n",
       "       [3, 2, 2, 1],\n",
       "       [2, 3, 4, 4]])"
      ]
     },
     "execution_count": 159,
     "metadata": {},
     "output_type": "execute_result"
    }
   ],
   "source": [
    "arr3"
   ]
  },
  {
   "cell_type": "code",
   "execution_count": 160,
   "id": "7203b0a2-9713-4fca-8cdb-1a0d60e2b634",
   "metadata": {},
   "outputs": [
    {
     "data": {
      "text/plain": [
       "array([3, 2, 1, 2])"
      ]
     },
     "execution_count": 160,
     "metadata": {},
     "output_type": "execute_result"
    }
   ],
   "source": [
    "arr3[0]"
   ]
  },
  {
   "cell_type": "code",
   "execution_count": 162,
   "id": "3157cae6-efaf-4492-98a4-fc3ce1b4c042",
   "metadata": {},
   "outputs": [
    {
     "data": {
      "text/plain": [
       "array([2, 3, 4, 4])"
      ]
     },
     "execution_count": 162,
     "metadata": {},
     "output_type": "execute_result"
    }
   ],
   "source": [
    "arr3[3]"
   ]
  },
  {
   "cell_type": "code",
   "execution_count": 164,
   "id": "d70cf9ec-d18a-4f49-bf8c-d69ca5cf6ce7",
   "metadata": {},
   "outputs": [
    {
     "data": {
      "text/plain": [
       "1"
      ]
     },
     "execution_count": 164,
     "metadata": {},
     "output_type": "execute_result"
    }
   ],
   "source": [
    "arr3[0][2]"
   ]
  },
  {
   "cell_type": "code",
   "execution_count": 165,
   "id": "550462ff-53f4-44e8-89ae-6ddb4c1e7c91",
   "metadata": {},
   "outputs": [
    {
     "data": {
      "text/plain": [
       "4"
      ]
     },
     "execution_count": 165,
     "metadata": {},
     "output_type": "execute_result"
    }
   ],
   "source": [
    "arr3[3][3]"
   ]
  },
  {
   "cell_type": "code",
   "execution_count": 166,
   "id": "059d070a-37fc-4772-9e93-de98fbbc3cad",
   "metadata": {},
   "outputs": [
    {
     "data": {
      "text/plain": [
       "array([[3, 2, 1, 2],\n",
       "       [3, 1, 2, 3]])"
      ]
     },
     "execution_count": 166,
     "metadata": {},
     "output_type": "execute_result"
    }
   ],
   "source": [
    "arr3[0:2]"
   ]
  },
  {
   "cell_type": "code",
   "execution_count": 171,
   "id": "2ebf2463-0510-4522-8ada-616550461c9f",
   "metadata": {},
   "outputs": [
    {
     "data": {
      "text/plain": [
       "array([[3, 2, 1, 2],\n",
       "       [3, 1, 2, 3],\n",
       "       [3, 2, 2, 1]])"
      ]
     },
     "execution_count": 171,
     "metadata": {},
     "output_type": "execute_result"
    }
   ],
   "source": [
    "arr3[0:3]"
   ]
  },
  {
   "cell_type": "raw",
   "id": "35880176-969b-4f67-83ea-93d9c3fbc1bd",
   "metadata": {},
   "source": []
  },
  {
   "cell_type": "code",
   "execution_count": 172,
   "id": "1c0ddcfe-04f0-4b0d-afd7-8e1b8e41d94d",
   "metadata": {},
   "outputs": [
    {
     "data": {
      "text/plain": [
       "array([[3, 2, 1, 2],\n",
       "       [3, 1, 2, 3],\n",
       "       [3, 2, 2, 1],\n",
       "       [2, 3, 4, 4]])"
      ]
     },
     "execution_count": 172,
     "metadata": {},
     "output_type": "execute_result"
    }
   ],
   "source": [
    "arr3"
   ]
  },
  {
   "cell_type": "code",
   "execution_count": 174,
   "id": "715dd173-50c5-49d4-9524-385b9d3f3b52",
   "metadata": {},
   "outputs": [
    {
     "data": {
      "text/plain": [
       "array([[2, 1],\n",
       "       [1, 2]])"
      ]
     },
     "execution_count": 174,
     "metadata": {},
     "output_type": "execute_result"
    }
   ],
   "source": [
    "arr3[0:2,[1,2]] # for finding 2nd row and 2nd col of 2-2 element>> last 2 is included but not in next"
   ]
  },
  {
   "cell_type": "code",
   "execution_count": 177,
   "id": "3d00b2dc-bbb4-42f5-9069-77a1dc5ffb36",
   "metadata": {},
   "outputs": [
    {
     "data": {
      "text/plain": [
       "array([[2, 1],\n",
       "       [1, 2]])"
      ]
     },
     "execution_count": 177,
     "metadata": {},
     "output_type": "execute_result"
    }
   ],
   "source": [
    "arr3[0:2,1:3] #last 2 is excluded"
   ]
  },
  {
   "cell_type": "code",
   "execution_count": 178,
   "id": "19931f66-8cda-4534-b123-bedc3c7b0e40",
   "metadata": {},
   "outputs": [
    {
     "data": {
      "text/plain": [
       "array([[3, 2, 1, 2],\n",
       "       [3, 1, 2, 3],\n",
       "       [3, 2, 2, 1],\n",
       "       [2, 3, 4, 4]])"
      ]
     },
     "execution_count": 178,
     "metadata": {},
     "output_type": "execute_result"
    }
   ],
   "source": [
    "arr3"
   ]
  },
  {
   "cell_type": "code",
   "execution_count": 184,
   "id": "64560e7c-2749-41cf-8921-d3b72313ac36",
   "metadata": {},
   "outputs": [
    {
     "data": {
      "text/plain": [
       "array([[4]])"
      ]
     },
     "execution_count": 184,
     "metadata": {},
     "output_type": "execute_result"
    }
   ],
   "source": [
    "arr3[3:4,2:3]"
   ]
  },
  {
   "cell_type": "code",
   "execution_count": 185,
   "id": "4a2450cd-ffc0-4bb9-ab42-810efb62bf60",
   "metadata": {},
   "outputs": [
    {
     "data": {
      "text/plain": [
       "array([[4, 4]])"
      ]
     },
     "execution_count": 185,
     "metadata": {},
     "output_type": "execute_result"
    }
   ],
   "source": [
    "arr3[3:4,[2,3]]"
   ]
  },
  {
   "cell_type": "code",
   "execution_count": 187,
   "id": "0f4618d6-7508-40c7-9b27-f4f85976c46d",
   "metadata": {},
   "outputs": [],
   "source": [
    "b=np.random.randint(1,5,(3,4))"
   ]
  },
  {
   "cell_type": "code",
   "execution_count": 188,
   "id": "429f4808-7e56-4b1a-b923-921787519f00",
   "metadata": {},
   "outputs": [
    {
     "data": {
      "text/plain": [
       "array([[4, 3, 3, 2],\n",
       "       [1, 3, 4, 3],\n",
       "       [2, 3, 1, 1]])"
      ]
     },
     "execution_count": 188,
     "metadata": {},
     "output_type": "execute_result"
    }
   ],
   "source": [
    "b"
   ]
  },
  {
   "cell_type": "code",
   "execution_count": 189,
   "id": "fa4392b4-839d-4329-a92c-dca1a2be370c",
   "metadata": {},
   "outputs": [],
   "source": [
    "c=np.random.randint(3,7,(3,4))"
   ]
  },
  {
   "cell_type": "code",
   "execution_count": 190,
   "id": "60c05feb-ade6-4fd8-9052-426c3437ae13",
   "metadata": {},
   "outputs": [
    {
     "data": {
      "text/plain": [
       "array([[4, 5, 6, 3],\n",
       "       [3, 6, 3, 4],\n",
       "       [5, 4, 4, 3]])"
      ]
     },
     "execution_count": 190,
     "metadata": {},
     "output_type": "execute_result"
    }
   ],
   "source": [
    "c"
   ]
  },
  {
   "cell_type": "code",
   "execution_count": 191,
   "id": "18015698-22e3-45f6-b543-ef5a9d29d79d",
   "metadata": {},
   "outputs": [
    {
     "data": {
      "text/plain": [
       "array([[8, 8, 9, 5],\n",
       "       [4, 9, 7, 7],\n",
       "       [7, 7, 5, 4]])"
      ]
     },
     "execution_count": 191,
     "metadata": {},
     "output_type": "execute_result"
    }
   ],
   "source": [
    "b+c"
   ]
  },
  {
   "cell_type": "code",
   "execution_count": 192,
   "id": "799609ed-f1d0-4fcc-8044-ee009df08526",
   "metadata": {},
   "outputs": [
    {
     "data": {
      "text/plain": [
       "array([[ 0, -2, -3, -1],\n",
       "       [-2, -3,  1, -1],\n",
       "       [-3, -1, -3, -2]])"
      ]
     },
     "execution_count": 192,
     "metadata": {},
     "output_type": "execute_result"
    }
   ],
   "source": [
    "b-c"
   ]
  },
  {
   "cell_type": "code",
   "execution_count": 193,
   "id": "58f977d5-6116-4f2a-b052-5803bb10458f",
   "metadata": {},
   "outputs": [
    {
     "data": {
      "text/plain": [
       "array([[16, 15, 18,  6],\n",
       "       [ 3, 18, 12, 12],\n",
       "       [10, 12,  4,  3]])"
      ]
     },
     "execution_count": 193,
     "metadata": {},
     "output_type": "execute_result"
    }
   ],
   "source": [
    "b*c  # also use dot for multiplication"
   ]
  },
  {
   "cell_type": "code",
   "execution_count": 194,
   "id": "2045f882-e3c4-4783-a979-6d5ffad812b8",
   "metadata": {},
   "outputs": [
    {
     "data": {
      "text/plain": [
       "array([[1.        , 0.6       , 0.5       , 0.66666667],\n",
       "       [0.33333333, 0.5       , 1.33333333, 0.75      ],\n",
       "       [0.4       , 0.75      , 0.25      , 0.33333333]])"
      ]
     },
     "execution_count": 194,
     "metadata": {},
     "output_type": "execute_result"
    }
   ],
   "source": [
    "b/c"
   ]
  },
  {
   "cell_type": "code",
   "execution_count": 198,
   "id": "c11e28ab-757c-4bb9-b1fe-f5bc874c4a82",
   "metadata": {},
   "outputs": [
    {
     "data": {
      "text/plain": [
       "(<function numpy.dot>,\n",
       " (array([[4, 3, 3, 2],\n",
       "         [1, 3, 4, 3],\n",
       "         [2, 3, 1, 1]]),\n",
       "  array([[4, 5, 6, 3],\n",
       "         [3, 6, 3, 4],\n",
       "         [5, 4, 4, 3]])))"
      ]
     },
     "execution_count": 198,
     "metadata": {},
     "output_type": "execute_result"
    }
   ],
   "source": [
    "np.dot,(b,c) # dot product of two matrix or array"
   ]
  },
  {
   "cell_type": "code",
   "execution_count": 204,
   "id": "c7f833d3-f136-4378-8990-f1e20d431898",
   "metadata": {},
   "outputs": [],
   "source": [
    "d=(3,3)\n",
    "k=np.zeros(d)"
   ]
  },
  {
   "cell_type": "code",
   "execution_count": 205,
   "id": "7ecb6e5d-c517-489c-bcb1-714bf79ba797",
   "metadata": {},
   "outputs": [
    {
     "data": {
      "text/plain": [
       "array([[0., 0., 0.],\n",
       "       [0., 0., 0.],\n",
       "       [0., 0., 0.]])"
      ]
     },
     "execution_count": 205,
     "metadata": {},
     "output_type": "execute_result"
    }
   ],
   "source": [
    "k"
   ]
  },
  {
   "cell_type": "code",
   "execution_count": 206,
   "id": "3e4aded1-6706-42db-8200-451acc51dea4",
   "metadata": {},
   "outputs": [
    {
     "data": {
      "text/plain": [
       "array([[5., 5., 5.],\n",
       "       [5., 5., 5.],\n",
       "       [5., 5., 5.]])"
      ]
     },
     "execution_count": 206,
     "metadata": {},
     "output_type": "execute_result"
    }
   ],
   "source": [
    "k+5"
   ]
  },
  {
   "cell_type": "code",
   "execution_count": 210,
   "id": "664ff0cc-1f60-43c0-ae4a-3e9ede157b9d",
   "metadata": {},
   "outputs": [],
   "source": [
    "a=np.random.randint(1,7,(1,3))"
   ]
  },
  {
   "cell_type": "code",
   "execution_count": 211,
   "id": "5f0b14a4-578b-4363-a37a-e323a849f68d",
   "metadata": {},
   "outputs": [
    {
     "data": {
      "text/plain": [
       "array([[4, 2, 1]])"
      ]
     },
     "execution_count": 211,
     "metadata": {},
     "output_type": "execute_result"
    }
   ],
   "source": [
    "a"
   ]
  },
  {
   "cell_type": "code",
   "execution_count": 212,
   "id": "77ee0f75-7f42-4131-b444-b3cbfcb70172",
   "metadata": {},
   "outputs": [
    {
     "data": {
      "text/plain": [
       "array([[4., 2., 1.],\n",
       "       [4., 2., 1.],\n",
       "       [4., 2., 1.]])"
      ]
     },
     "execution_count": 212,
     "metadata": {},
     "output_type": "execute_result"
    }
   ],
   "source": [
    "k+a"
   ]
  },
  {
   "cell_type": "code",
   "execution_count": 213,
   "id": "dad75634-c044-4a98-b5b5-bd8e9c02f3fd",
   "metadata": {},
   "outputs": [
    {
     "data": {
      "text/plain": [
       "array([[4, 2, 1]])"
      ]
     },
     "execution_count": 213,
     "metadata": {},
     "output_type": "execute_result"
    }
   ],
   "source": [
    "# matrix transpose\n",
    "# transpose of matrix is allows to greater than 1D in numpy\n",
    "a"
   ]
  },
  {
   "cell_type": "code",
   "execution_count": 215,
   "id": "2136f18f-07d9-4593-87f3-9760d6338294",
   "metadata": {},
   "outputs": [
    {
     "data": {
      "text/plain": [
       "array([[4, 2, 1]])"
      ]
     },
     "execution_count": 215,
     "metadata": {},
     "output_type": "execute_result"
    }
   ],
   "source": [
    "a.T.T"
   ]
  },
  {
   "cell_type": "code",
   "execution_count": 216,
   "id": "2b6fea45-ce54-4799-9a02-aefe70e58087",
   "metadata": {},
   "outputs": [
    {
     "data": {
      "text/plain": [
       "array([[4],\n",
       "       [2],\n",
       "       [1]])"
      ]
     },
     "execution_count": 216,
     "metadata": {},
     "output_type": "execute_result"
    }
   ],
   "source": [
    "a.T"
   ]
  },
  {
   "cell_type": "code",
   "execution_count": 217,
   "id": "8376b608-664c-4b77-995e-d828ffcdc921",
   "metadata": {},
   "outputs": [
    {
     "data": {
      "text/plain": [
       "array([[4],\n",
       "       [2],\n",
       "       [1]])"
      ]
     },
     "execution_count": 217,
     "metadata": {},
     "output_type": "execute_result"
    }
   ],
   "source": [
    "a.T"
   ]
  },
  {
   "cell_type": "code",
   "execution_count": 218,
   "id": "49e8aee3-4f4b-4bdd-99bd-14e35a8e7b17",
   "metadata": {},
   "outputs": [
    {
     "data": {
      "text/plain": [
       "array([[4, 3, 3, 2],\n",
       "       [1, 3, 4, 3],\n",
       "       [2, 3, 1, 1]])"
      ]
     },
     "execution_count": 218,
     "metadata": {},
     "output_type": "execute_result"
    }
   ],
   "source": [
    "b"
   ]
  },
  {
   "cell_type": "code",
   "execution_count": 219,
   "id": "02335bea-4937-4d22-8d62-08a6064ddffd",
   "metadata": {},
   "outputs": [
    {
     "data": {
      "text/plain": [
       "array([[4, 1, 2],\n",
       "       [3, 3, 3],\n",
       "       [3, 4, 1],\n",
       "       [2, 3, 1]])"
      ]
     },
     "execution_count": 219,
     "metadata": {},
     "output_type": "execute_result"
    }
   ],
   "source": [
    "b.T"
   ]
  },
  {
   "cell_type": "code",
   "execution_count": 220,
   "id": "b9b04021-fbf8-45bf-ae52-a4fa0656452b",
   "metadata": {},
   "outputs": [
    {
     "data": {
      "text/plain": [
       "array([[2.        , 1.73205081, 1.73205081, 1.41421356],\n",
       "       [1.        , 1.73205081, 2.        , 1.73205081],\n",
       "       [1.41421356, 1.73205081, 1.        , 1.        ]])"
      ]
     },
     "execution_count": 220,
     "metadata": {},
     "output_type": "execute_result"
    }
   ],
   "source": [
    "np.sqrt(b)"
   ]
  },
  {
   "cell_type": "code",
   "execution_count": 221,
   "id": "650a64fa-7bd3-4dfb-b1dd-f2142a475b91",
   "metadata": {},
   "outputs": [
    {
     "data": {
      "text/plain": [
       "1"
      ]
     },
     "execution_count": 221,
     "metadata": {},
     "output_type": "execute_result"
    }
   ],
   "source": [
    "np.min(b)"
   ]
  },
  {
   "cell_type": "code",
   "execution_count": 222,
   "id": "11a86cf9-1779-440e-9b8f-d5601f9bc0ee",
   "metadata": {},
   "outputs": [
    {
     "data": {
      "text/plain": [
       "4"
      ]
     },
     "execution_count": 222,
     "metadata": {},
     "output_type": "execute_result"
    }
   ],
   "source": [
    "np.max(b)"
   ]
  },
  {
   "cell_type": "code",
   "execution_count": null,
   "id": "246d6df4-2e22-47cd-b928-e2d560e99a7c",
   "metadata": {},
   "outputs": [],
   "source": [
    "# end of the lecture 1 of numpy "
   ]
  }
 ],
 "metadata": {
  "kernelspec": {
   "display_name": "Python 3 (ipykernel)",
   "language": "python",
   "name": "python3"
  },
  "language_info": {
   "codemirror_mode": {
    "name": "ipython",
    "version": 3
   },
   "file_extension": ".py",
   "mimetype": "text/x-python",
   "name": "python",
   "nbconvert_exporter": "python",
   "pygments_lexer": "ipython3",
   "version": "3.10.8"
  }
 },
 "nbformat": 4,
 "nbformat_minor": 5
}
