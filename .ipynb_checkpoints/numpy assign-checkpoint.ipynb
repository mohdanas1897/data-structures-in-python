{
 "cells": [
  {
   "cell_type": "raw",
   "id": "1903946e-0eac-4bd9-b449-88f7b14c6e1e",
   "metadata": {},
   "source": []
  },
  {
   "cell_type": "code",
   "execution_count": 1,
   "id": "b819c7af-884d-44de-b7f9-fdc3e054039d",
   "metadata": {},
   "outputs": [],
   "source": [
    "import numpy as np"
   ]
  },
  {
   "cell_type": "code",
   "execution_count": 2,
   "id": "8d2a605d-29e1-4ceb-9010-ca3f432032e4",
   "metadata": {},
   "outputs": [
    {
     "data": {
      "text/plain": [
       "numpy.ndarray"
      ]
     },
     "execution_count": 2,
     "metadata": {},
     "output_type": "execute_result"
    }
   ],
   "source": [
    "# 1 create a array 'arr'of integers from 0 to 5 and print its data type \n",
    "arr=np.array([0,1,2,3,4,5])\n",
    "type(arr)"
   ]
  },
  {
   "cell_type": "code",
   "execution_count": 12,
   "id": "26aa57af-bad7-4f99-8bab-25fb1e3c661c",
   "metadata": {},
   "outputs": [],
   "source": [
    "# 2 \n",
    "#arr= np.array([1.5,2.6,3.7])\n",
    "#arr"
   ]
  },
  {
   "cell_type": "code",
   "execution_count": 5,
   "id": "ffd728f7-ded4-48c0-8dbc-8ace1566b376",
   "metadata": {},
   "outputs": [
    {
     "data": {
      "text/plain": [
       "True"
      ]
     },
     "execution_count": 5,
     "metadata": {},
     "output_type": "execute_result"
    }
   ],
   "source": [
    "#2 give a np array 'arr',check if its data type is float64\n",
    "arr=np.array([1.5,2.6,3.7])\n",
    "float==(arr.dtype)"
   ]
  },
  {
   "cell_type": "code",
   "execution_count": 14,
   "id": "624235d2-b005-4957-b310-d5cfa004af56",
   "metadata": {},
   "outputs": [
    {
     "data": {
      "text/plain": [
       "array([3.+0.j, 6.+0.j, 5.+0.j])"
      ]
     },
     "execution_count": 14,
     "metadata": {},
     "output_type": "execute_result"
    }
   ],
   "source": [
    "# 3 create a numpy array 'arr' with a data type of complex 128 containing three complex number\n",
    "arr=np.array([3,6,5],dtype=complex)\n",
    "arr"
   ]
  },
  {
   "cell_type": "code",
   "execution_count": 26,
   "id": "d467d79c-da48-455c-9ebe-4df5bcbf7ee3",
   "metadata": {},
   "outputs": [
    {
     "data": {
      "text/plain": [
       "dtype('float64')"
      ]
     },
     "execution_count": 26,
     "metadata": {},
     "output_type": "execute_result"
    }
   ],
   "source": [
    "# 4 convert an existing numpy array 'arr'of integers to float32 data type \n",
    "arr=np.array([5,6,8,9])\n",
    "x=np.asfarray(arr)\n",
    "x.dtype"
   ]
  },
  {
   "cell_type": "code",
   "execution_count": 9,
   "id": "89c2156f-1dc0-47fe-baff-a641da2daa3f",
   "metadata": {},
   "outputs": [
    {
     "data": {
      "text/plain": [
       "array([1.5, 2.4, 3. ], dtype=float32)"
      ]
     },
     "execution_count": 9,
     "metadata": {},
     "output_type": "execute_result"
    }
   ],
   "source": [
    "# 5 given a numpy array arr with float64 data type, convert it to float 32 to reduce decimal orecision. \n",
    "arr=np.array([1.5000000005,2.4000000,3.00000000545])\n",
    "arr=arr.astype('float32')\n",
    "arr"
   ]
  },
  {
   "cell_type": "code",
   "execution_count": 12,
   "id": "86844d68-440e-4ae8-a1a1-51ee3cdf9060",
   "metadata": {},
   "outputs": [
    {
     "name": "stdout",
     "output_type": "stream",
     "text": [
      "array shape is: (1, 3, 3)\n",
      "array size: 9\n",
      "array type is: int64\n"
     ]
    }
   ],
   "source": [
    "# 6 create a functiion array_attributes that takrs a numpy array as input and reaturn input shape,size,and \n",
    "# data type.\n",
    "l=np.array([[1,2,3],\n",
    "            [4,5,6],\n",
    "            [7,4,7]])\n",
    "array_attributes=np.array([l])\n",
    "#array_attributes=np.array([])\n",
    "#a=int(input(\"size of an array:\"))\n",
    "#for i in range(a):\n",
    " #   x=float(input(\"enter array elements:\"))\n",
    "  #  np.append(x)\n",
    "#array_attributes\n",
    "print(\"array shape is:\",array_attributes.shape)\n",
    "print(\"array size:\",array_attributes.size)\n",
    "print(\"array type is:\",array_attributes.dtype)"
   ]
  },
  {
   "cell_type": "code",
   "execution_count": 26,
   "id": "b04bb623-cf98-4aa2-96d1-4c758464dfb2",
   "metadata": {},
   "outputs": [
    {
     "name": "stdin",
     "output_type": "stream",
     "text": [
      "enter the array element with commas:  65 6895 9835\n"
     ]
    },
    {
     "data": {
      "text/plain": [
       "list['65 6895 9835']"
      ]
     },
     "execution_count": 26,
     "metadata": {},
     "output_type": "execute_result"
    }
   ],
   "source": [
    "#7\n",
    "n=list[input(\"enter the array element with commas: \")]\n",
    "n"
   ]
  },
  {
   "cell_type": "code",
   "execution_count": 27,
   "id": "9d13b150-bfee-457a-8faa-51b3b98e5d2b",
   "metadata": {},
   "outputs": [
    {
     "data": {
      "text/plain": [
       "array([1, 2, 5, 3, 6, 4, 7, 8, 5])"
      ]
     },
     "execution_count": 27,
     "metadata": {},
     "output_type": "execute_result"
    }
   ],
   "source": [
    "##incomplete #16\n",
    "n=[1,2,5,3,6,4,7,8,5]\n",
    "arr=np.array(n)\n",
    "arr"
   ]
  },
  {
   "cell_type": "code",
   "execution_count": 10,
   "id": "26e1d1e7-4309-436d-acce-060bd7104a7a",
   "metadata": {},
   "outputs": [
    {
     "name": "stdin",
     "output_type": "stream",
     "text": [
      "enter the number of zeros elemenst: 5\n"
     ]
    },
    {
     "data": {
      "text/plain": [
       "array([0., 0., 0., 0., 0.])"
      ]
     },
     "execution_count": 10,
     "metadata": {},
     "output_type": "execute_result"
    }
   ],
   "source": [
    "# 11 create a function 'create_zeros_array'that takes an integer 'n' as input and return a numpy array of \n",
    "#zeros with 'n' elements.\n",
    "n=int(input(\"enter the number of zeros elemenst:\"))\n",
    "create_zeros_array=np.zeros([n])\n",
    "create_zeros_array"
   ]
  },
  {
   "cell_type": "code",
   "execution_count": 11,
   "id": "0babd500-a83a-43b8-a2ad-5ce55bba042f",
   "metadata": {},
   "outputs": [
    {
     "name": "stdin",
     "output_type": "stream",
     "text": [
      "enter the number of rows 5\n",
      "enter the number of cols 4\n"
     ]
    },
    {
     "data": {
      "text/plain": [
       "array([[1., 1., 1., 1.],\n",
       "       [1., 1., 1., 1.],\n",
       "       [1., 1., 1., 1.],\n",
       "       [1., 1., 1., 1.],\n",
       "       [1., 1., 1., 1.]])"
      ]
     },
     "execution_count": 11,
     "metadata": {},
     "output_type": "execute_result"
    }
   ],
   "source": [
    "# 12 write a function create_ones_matrix that takes integers rows and columns as input and generates a 2D\n",
    "#numpy array filled with ones of size rows ,cols.\n",
    "n= int(input(\"enter the number of rows\"))\n",
    "m= int(input(\"enter the number of cols\"))\n",
    "create_ones_matrix=np.ones((n,m))\n",
    "create_ones_matrix"
   ]
  },
  {
   "cell_type": "code",
   "execution_count": null,
   "id": "95a0a2e5-575e-41ee-8f09-90f5a7735018",
   "metadata": {},
   "outputs": [
    {
     "name": "stdin",
     "output_type": "stream",
     "text": [
      "enter the number of elements of matrix : 5\n"
     ]
    },
    {
     "name": "stdout",
     "output_type": "stream",
     "text": [
      "square identity matrix: 25\n"
     ]
    }
   ],
   "source": [
    "# 15 create a function create_identity_matrix that takes an integers n as input and generates  a square \n",
    "# identity matrix of size 'N*N' using numpy.eye\n",
    "n= int(input(\"enter the number of elements of matrix :\"))\n",
    "create_identity_matrix=np.eye((n))\n",
    "print(\"square identity matrix:\",create_identity_matrix.size)"
   ]
  },
  {
   "cell_type": "code",
   "execution_count": 19,
   "id": "c513ac25-7187-4f94-8876-17611b36043e",
   "metadata": {},
   "outputs": [
    {
     "data": {
      "text/plain": [
       "array([2, 5, 4, 7, 8, 9, 6])"
      ]
     },
     "execution_count": 19,
     "metadata": {},
     "output_type": "execute_result"
    }
   ],
   "source": [
    "# 16 def\n",
    "lis=[2,5,4,7,8,9,6]\n",
    "arr=np.array(lis)\n",
    "arr"
   ]
  },
  {
   "cell_type": "code",
   "execution_count": 32,
   "id": "67d531fd-72f8-4738-ba5e-4f74bf8302ec",
   "metadata": {},
   "outputs": [
    {
     "data": {
      "text/plain": [
       "array([[ 6.,  3., 10.],\n",
       "       [ 6.,  3., 10.],\n",
       "       [ 6.,  3., 10.]])"
      ]
     },
     "execution_count": 32,
     "metadata": {},
     "output_type": "execute_result"
    }
   ],
   "source": [
    "# 18 def\n",
    "arr1=np.array([5,2,9])\n",
    "arr2=np.ones((3,3))\n",
    "arr1+arr2"
   ]
  },
  {
   "cell_type": "code",
   "execution_count": 39,
   "id": "8950920c-4ffb-4ad3-8524-9bfb2abd1106",
   "metadata": {},
   "outputs": [
    {
     "data": {
      "text/plain": [
       "array([[ 6.,  3., 10.],\n",
       "       [ 6.,  3., 10.],\n",
       "       [ 6.,  3., 10.],\n",
       "       [ 1.,  2.,  3.]])"
      ]
     },
     "execution_count": 39,
     "metadata": {},
     "output_type": "execute_result"
    }
   ],
   "source": [
    "#19 def\n",
    "arr1=([[ 6.,  3., 10.],[ 6.,  3., 10.],[ 6.,  3., 10.]])\n",
    "a=np.array([[1,2,3]])\n",
    "np.concatenate((arr1,a))\n",
    "                   \n",
    "  "
   ]
  },
  {
   "cell_type": "code",
   "execution_count": 40,
   "id": "1c0555ab-5d77-4661-9421-1095eb95dd9e",
   "metadata": {},
   "outputs": [
    {
     "data": {
      "text/plain": [
       "30"
      ]
     },
     "execution_count": 40,
     "metadata": {},
     "output_type": "execute_result"
    }
   ],
   "source": [
    "#26 access the third element from the given numpy array\n",
    "arr=np.array([10,20,30,40,50])\n",
    "arr[2]\n"
   ]
  },
  {
   "cell_type": "code",
   "execution_count": 58,
   "id": "db94e7fc-fd81-4511-9738-a7dbcd47a214",
   "metadata": {},
   "outputs": [
    {
     "data": {
      "text/plain": [
       "array([[10, 20,  3],\n",
       "       [ 4,  5,  6],\n",
       "       [ 7,  8,  9]])"
      ]
     },
     "execution_count": 58,
     "metadata": {},
     "output_type": "execute_result"
    }
   ],
   "source": [
    "# 27 some understending\n",
    "arr=_2D=np.array([[1,2,3,],\n",
    "                  [4,5,6,],\n",
    "                  [7,8,9]])\n",
    "# retrieve the element at intex (1,2) from the 2D numpy array\n",
    "arr[0][0]=10\n",
    "arr[0][1]=20\n",
    "arr\n"
   ]
  },
  {
   "cell_type": "code",
   "execution_count": 61,
   "id": "9c347297-3cba-4bab-b76e-87246877f6fb",
   "metadata": {},
   "outputs": [
    {
     "data": {
      "text/plain": [
       "array([ 8, 10,  7])"
      ]
     },
     "execution_count": 61,
     "metadata": {},
     "output_type": "execute_result"
    }
   ],
   "source": [
    "#28 \n",
    "arr=np.array ([3,8,2,10,5,7])\n",
    "np.extract(arr>5,arr)"
   ]
  },
  {
   "cell_type": "code",
   "execution_count": 70,
   "id": "4f719425-ca53-4e89-81e3-6cfd79ec734b",
   "metadata": {},
   "outputs": [
    {
     "data": {
      "text/plain": [
       "array([3, 4, 5])"
      ]
     },
     "execution_count": 70,
     "metadata": {},
     "output_type": "execute_result"
    }
   ],
   "source": [
    "#29\n",
    "arr=np.array([1,2,3,4,5,6,7,8,9])\n",
    "arr[2:5]\n"
   ]
  },
  {
   "cell_type": "code",
   "execution_count": 77,
   "id": "1bc80820-2376-4822-b505-411f140a3d31",
   "metadata": {},
   "outputs": [
    {
     "data": {
      "text/plain": [
       "array([[2, 3],\n",
       "       [5, 6]])"
      ]
     },
     "execution_count": 77,
     "metadata": {},
     "output_type": "execute_result"
    }
   ],
   "source": [
    "#30\n",
    "arr_2D=np.array([[1, 2, 3],\n",
    "                 [4, 5, 6],\n",
    "                 [7, 8, 9]])\n",
    "arr_2D[0:2,1:3]"
   ]
  },
  {
   "cell_type": "code",
   "execution_count": 81,
   "id": "f801c817-e864-475c-abed-0b2e4bb9b022",
   "metadata": {},
   "outputs": [
    {
     "data": {
      "text/plain": [
       "array([[6., 6., 6.],\n",
       "       [6., 6., 6.],\n",
       "       [6., 6., 6.]])"
      ]
     },
     "execution_count": 81,
     "metadata": {},
     "output_type": "execute_result"
    }
   ],
   "source": [
    "# 36\n",
    "arr=np.ones((3,3))\n",
    "arr+5"
   ]
  },
  {
   "cell_type": "code",
   "execution_count": 95,
   "id": "8985fd5d-f930-4efe-9a5a-a20ca206762b",
   "metadata": {},
   "outputs": [
    {
     "data": {
      "text/plain": [
       "array([[7],\n",
       "       [8],\n",
       "       [9]])"
      ]
     },
     "execution_count": 106,
     "metadata": {},
     "output_type": "execute_result"
    }
   ],
   "source": [
    "#37\n",
    "arr=np.array([[7, 8, 9]])\n",
    "arr1=arr.T\n",
    "arr2=np.array([[1, 2, 7, 3],\n",
    "               [5, 4, 5, 6],\n",
    "               [7, 9, 8, 9]])\n",
    "arr2.shape\n",
    "np.multiply(arr1,arr2)"
   ]
  },
  {
   "cell_type": "code",
   "execution_count": 123,
   "id": "8848f399-8ef3-458a-9a71-20b150489e61",
   "metadata": {},
   "outputs": [
    {
     "data": {
      "text/plain": [
       "array([[2, 3, 4, 5],\n",
       "       [3, 4, 5, 6],\n",
       "       [4, 5, 6, 7],\n",
       "       [5, 6, 7, 8]])"
      ]
     },
     "execution_count": 123,
     "metadata": {},
     "output_type": "execute_result"
    }
   ],
   "source": [
    "# 38\n",
    "arr=np.array([1,2,3,4])\n",
    "arr1=np.expand_dims(arr,axis=0)\n",
    "arr1.shape\n",
    "n=arr1.T\n",
    "arr2=np.array([[1, 5, 7],\n",
    "               [2, 4, 9],\n",
    "               [7, 5, 8],\n",
    "               [3, 6, 9]])\n",
    "arr1+n"
   ]
  },
  {
   "cell_type": "code",
   "execution_count": 128,
   "id": "fa92f019-b835-4226-9364-b228913a01c5",
   "metadata": {},
   "outputs": [
    {
     "data": {
      "text/plain": [
       "array([[5, 5, 9],\n",
       "       [5, 5, 9],\n",
       "       [5, 5, 9]])"
      ]
     },
     "execution_count": 128,
     "metadata": {},
     "output_type": "execute_result"
    }
   ],
   "source": [
    "#39\n",
    "arr1=np.random.randint(1,8,(3,1))\n",
    "arr2=np.random.randint(1,8,(1,3))\n",
    "arr1+arr2"
   ]
  },
  {
   "cell_type": "code",
   "execution_count": 143,
   "id": "05bdbcb3-3998-4e10-94c0-bca8197c6381",
   "metadata": {},
   "outputs": [
    {
     "data": {
      "text/plain": [
       "array([[3, 6],\n",
       "       [1, 4]])"
      ]
     },
     "execution_count": 143,
     "metadata": {},
     "output_type": "execute_result"
    }
   ],
   "source": [
    "#40 \n",
    "#      incompleted\n",
    "arr1=np.random.randint(1,9,(2,3))\n",
    "arr1\n",
    "arr2=np.random.randint(1,9,(2,2))\n",
    "arr2"
   ]
  },
  {
   "cell_type": "code",
   "execution_count": 146,
   "id": "ee48a3e0-740e-45f2-a60b-3227aa2f9ba0",
   "metadata": {},
   "outputs": [
    {
     "data": {
      "text/plain": [
       "array([2., 5.])"
      ]
     },
     "execution_count": 146,
     "metadata": {},
     "output_type": "execute_result"
    }
   ],
   "source": [
    "#41\n",
    "arr=np.array([[1,2,3],\n",
    "              [4,5,6]])\n",
    "np.mean(arr,axis=1)"
   ]
  },
  {
   "cell_type": "code",
   "execution_count": 155,
   "id": "d6ad9b79-5f19-41b2-bd8d-50d7cf75768f",
   "metadata": {},
   "outputs": [
    {
     "name": "stdout",
     "output_type": "stream",
     "text": [
      "max value of 1st row: 3\n",
      "max value of 2nd row: 6\n"
     ]
    }
   ],
   "source": [
    "#42\n",
    "arr=np.array([[1,2,3],\n",
    "              [4,5,6]])\n",
    "print(\"max value of 1st row:\",np.max(arr[0]))\n",
    "print(\"max value of 2nd row:\",np.max(arr[1]))"
   ]
  },
  {
   "cell_type": "code",
   "execution_count": null,
   "id": "f6093143-dc0d-4294-bbce-7cf23844dad7",
   "metadata": {},
   "outputs": [],
   "source": []
  }
 ],
 "metadata": {
  "kernelspec": {
   "display_name": "Python 3 (ipykernel)",
   "language": "python",
   "name": "python3"
  },
  "language_info": {
   "codemirror_mode": {
    "name": "ipython",
    "version": 3
   },
   "file_extension": ".py",
   "mimetype": "text/x-python",
   "name": "python",
   "nbconvert_exporter": "python",
   "pygments_lexer": "ipython3",
   "version": "3.10.8"
  }
 },
 "nbformat": 4,
 "nbformat_minor": 5
}
